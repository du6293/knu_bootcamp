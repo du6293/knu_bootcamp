{
  "nbformat": 4,
  "nbformat_minor": 0,
  "metadata": {
    "kernelspec": {
      "display_name": "Python 3",
      "language": "python",
      "name": "python3"
    },
    "language_info": {
      "codemirror_mode": {
        "name": "ipython",
        "version": 3
      },
      "file_extension": ".py",
      "mimetype": "text/x-python",
      "name": "python",
      "nbconvert_exporter": "python",
      "pygments_lexer": "ipython3",
      "version": "3.7.3"
    },
    "colab": {
      "name": "심화5 numpy_완성.ipynb",
      "provenance": [],
      "collapsed_sections": [
        "hjm7hhc9SFa_",
        "SMmdutMgaXMK",
        "ESDTdJ6tv_8p",
        "aeKm_rRTxd3_",
        "XR3BCZWUGUke",
        "M-_r90AXIpV0"
      ],
      "toc_visible": true,
      "include_colab_link": true
    }
  },
  "cells": [
    {
      "cell_type": "markdown",
      "metadata": {
        "id": "view-in-github",
        "colab_type": "text"
      },
      "source": [
        "<a href=\"https://colab.research.google.com/github/du6293/project/blob/main/%EC%8B%AC%ED%99%945_numpy_%EC%99%84%EC%84%B1.ipynb\" target=\"_parent\"><img src=\"https://colab.research.google.com/assets/colab-badge.svg\" alt=\"Open In Colab\"/></a>"
      ]
    },
    {
      "cell_type": "markdown",
      "source": [
        "# Numpy import 및 속성"
      ],
      "metadata": {
        "id": "PLfMg06sSMWX"
      }
    },
    {
      "cell_type": "code",
      "source": [
        "import numpy as np\n"
      ],
      "metadata": {
        "id": "wxXNa6LrPzaA"
      },
      "execution_count": null,
      "outputs": []
    },
    {
      "cell_type": "markdown",
      "source": [
        "배열의 속성"
      ],
      "metadata": {
        "id": "Qhd5ZoLHTJ1T"
      }
    },
    {
      "cell_type": "code",
      "source": [
        "a = np.array([1,2,3,4])\n",
        "a"
      ],
      "metadata": {
        "colab": {
          "base_uri": "https://localhost:8080/"
        },
        "id": "_iJRg9JQTIFA",
        "outputId": "b1360f42-225c-45aa-a1f9-8467daf32a71"
      },
      "execution_count": null,
      "outputs": [
        {
          "output_type": "execute_result",
          "data": {
            "text/plain": [
              "array([1, 2, 3, 4])"
            ]
          },
          "metadata": {},
          "execution_count": 2
        }
      ]
    },
    {
      "cell_type": "code",
      "source": [
        "print('type: ',type(a))\n",
        "print('dtype: ',a.dtype)\n",
        "print('ndim: ',a.ndim)\n",
        "print('shape: ',a.shape)\n",
        "print('size: ',a.size)\n",
        "print('itemsize: ',a.itemsize)"
      ],
      "metadata": {
        "colab": {
          "base_uri": "https://localhost:8080/"
        },
        "id": "TNjkGx34TUtf",
        "outputId": "8ed7afdb-c02c-4377-bdc4-62bc41ee0f94"
      },
      "execution_count": null,
      "outputs": [
        {
          "output_type": "stream",
          "name": "stdout",
          "text": [
            "type:  <class 'numpy.ndarray'>\n",
            "dtype:  int64\n",
            "ndim:  1\n",
            "shape:  (4,)\n",
            "size:  4\n",
            "itemsize:  8\n"
          ]
        }
      ]
    },
    {
      "cell_type": "markdown",
      "metadata": {
        "id": "DN3TJOI5maVD"
      },
      "source": [
        "# Numpy 배열의 생성"
      ]
    },
    {
      "cell_type": "markdown",
      "source": [
        "##array 함수를 사용하여 생성"
      ],
      "metadata": {
        "id": "WwpWghUTT4gj"
      }
    },
    {
      "cell_type": "code",
      "source": [
        "a1 = np.array([1,2,3,4,5])\n",
        "a1"
      ],
      "metadata": {
        "id": "RYFQUfEoP2bJ",
        "colab": {
          "base_uri": "https://localhost:8080/"
        },
        "outputId": "1bd3f6b9-e381-4683-c19e-42b8aa9f514a"
      },
      "execution_count": null,
      "outputs": [
        {
          "output_type": "execute_result",
          "data": {
            "text/plain": [
              "array([1, 2, 3, 4, 5])"
            ]
          },
          "metadata": {},
          "execution_count": 11
        }
      ]
    },
    {
      "cell_type": "code",
      "source": [
        "a1.shape"
      ],
      "metadata": {
        "colab": {
          "base_uri": "https://localhost:8080/"
        },
        "id": "oHSwkEdNUKi1",
        "outputId": "ee95cbea-feb7-4dab-8f0c-2f456d939a0c"
      },
      "execution_count": null,
      "outputs": [
        {
          "output_type": "execute_result",
          "data": {
            "text/plain": [
              "(5,)"
            ]
          },
          "metadata": {},
          "execution_count": 12
        }
      ]
    },
    {
      "cell_type": "code",
      "source": [
        "a2 = np.array([[1,2],[3,4]])\n",
        "a2"
      ],
      "metadata": {
        "colab": {
          "base_uri": "https://localhost:8080/"
        },
        "id": "ooGE9lkfUMMh",
        "outputId": "1616c30c-8994-4cab-d116-57c53e809d59"
      },
      "execution_count": null,
      "outputs": [
        {
          "output_type": "execute_result",
          "data": {
            "text/plain": [
              "array([[1, 2],\n",
              "       [3, 4]])"
            ]
          },
          "metadata": {},
          "execution_count": 13
        }
      ]
    },
    {
      "cell_type": "code",
      "source": [
        "a2.shape"
      ],
      "metadata": {
        "colab": {
          "base_uri": "https://localhost:8080/"
        },
        "id": "nz1zn5rlUTrF",
        "outputId": "b9586f6d-07df-45bf-9265-3cb9e0a0ca5a"
      },
      "execution_count": null,
      "outputs": [
        {
          "output_type": "execute_result",
          "data": {
            "text/plain": [
              "(2, 2)"
            ]
          },
          "metadata": {},
          "execution_count": 14
        }
      ]
    },
    {
      "cell_type": "code",
      "source": [
        "a3 = np.array([[[1,2],[3,4]],[[5,6],[7,8]]])\n",
        "a3"
      ],
      "metadata": {
        "colab": {
          "base_uri": "https://localhost:8080/"
        },
        "id": "p9Kr8oA9UZoO",
        "outputId": "7b17dc89-7334-4fb7-b512-4de995a8a4be"
      },
      "execution_count": null,
      "outputs": [
        {
          "output_type": "execute_result",
          "data": {
            "text/plain": [
              "array([[[1, 2],\n",
              "        [3, 4]],\n",
              "\n",
              "       [[5, 6],\n",
              "        [7, 8]]])"
            ]
          },
          "metadata": {},
          "execution_count": 15
        }
      ]
    },
    {
      "cell_type": "code",
      "source": [
        "a3.shape"
      ],
      "metadata": {
        "colab": {
          "base_uri": "https://localhost:8080/"
        },
        "id": "lEzAWbnFUr2t",
        "outputId": "7aef143c-7214-4ccf-ecef-07be0556825e"
      },
      "execution_count": null,
      "outputs": [
        {
          "output_type": "execute_result",
          "data": {
            "text/plain": [
              "(2, 2, 2)"
            ]
          },
          "metadata": {},
          "execution_count": 16
        }
      ]
    },
    {
      "cell_type": "markdown",
      "source": [
        "## arange()와 reshape()함수을 사용하여 생성"
      ],
      "metadata": {
        "id": "qBP2nAF4VPwG"
      }
    },
    {
      "cell_type": "code",
      "source": [
        "a1 = np.arange(0,12)\n",
        "a1"
      ],
      "metadata": {
        "id": "HmKRd0kzP56T",
        "colab": {
          "base_uri": "https://localhost:8080/"
        },
        "outputId": "61708654-e249-4dfd-c826-ba9641690f0c"
      },
      "execution_count": null,
      "outputs": [
        {
          "output_type": "execute_result",
          "data": {
            "text/plain": [
              "array([ 0,  1,  2,  3,  4,  5,  6,  7,  8,  9, 10, 11])"
            ]
          },
          "metadata": {},
          "execution_count": 20
        }
      ]
    },
    {
      "cell_type": "code",
      "source": [
        "a1.shape"
      ],
      "metadata": {
        "colab": {
          "base_uri": "https://localhost:8080/"
        },
        "id": "okc5JIEOU-6T",
        "outputId": "fd5ff54e-90ed-4306-ec54-38980ad62936"
      },
      "execution_count": null,
      "outputs": [
        {
          "output_type": "execute_result",
          "data": {
            "text/plain": [
              "(12,)"
            ]
          },
          "metadata": {},
          "execution_count": 22
        }
      ]
    },
    {
      "cell_type": "code",
      "source": [
        "a2 = a1.reshape(3,4)\n",
        "a2"
      ],
      "metadata": {
        "colab": {
          "base_uri": "https://localhost:8080/"
        },
        "id": "DPQZZxWLVAPM",
        "outputId": "0d3e5f3a-80ed-45e3-e513-b8c5a3a4a76c"
      },
      "execution_count": null,
      "outputs": [
        {
          "output_type": "execute_result",
          "data": {
            "text/plain": [
              "array([[ 0,  1,  2,  3],\n",
              "       [ 4,  5,  6,  7],\n",
              "       [ 8,  9, 10, 11]])"
            ]
          },
          "metadata": {},
          "execution_count": 24
        }
      ]
    },
    {
      "cell_type": "code",
      "source": [
        "#음수는 나머지 원소를 계산해서 해당 차원크기를 자동으로 맞춤\n",
        "a3 = a1.reshape(3,-1)\n",
        "a3"
      ],
      "metadata": {
        "colab": {
          "base_uri": "https://localhost:8080/"
        },
        "id": "kTVjMnzcU74S",
        "outputId": "1dd79c6a-ecd2-4c54-951d-730d23ff02e4"
      },
      "execution_count": null,
      "outputs": [
        {
          "output_type": "execute_result",
          "data": {
            "text/plain": [
              "array([[ 0,  1,  2,  3],\n",
              "       [ 4,  5,  6,  7],\n",
              "       [ 8,  9, 10, 11]])"
            ]
          },
          "metadata": {},
          "execution_count": 25
        }
      ]
    },
    {
      "cell_type": "code",
      "source": [
        "a4 = np.arange(36,dtype=float).reshape(3,4,3)\n",
        "a4"
      ],
      "metadata": {
        "colab": {
          "base_uri": "https://localhost:8080/"
        },
        "id": "LidqhY87Vl6k",
        "outputId": "af53a1ae-e4f7-469a-c993-112bbd2f61cf"
      },
      "execution_count": null,
      "outputs": [
        {
          "output_type": "execute_result",
          "data": {
            "text/plain": [
              "array([[[ 0.,  1.,  2.],\n",
              "        [ 3.,  4.,  5.],\n",
              "        [ 6.,  7.,  8.],\n",
              "        [ 9., 10., 11.]],\n",
              "\n",
              "       [[12., 13., 14.],\n",
              "        [15., 16., 17.],\n",
              "        [18., 19., 20.],\n",
              "        [21., 22., 23.]],\n",
              "\n",
              "       [[24., 25., 26.],\n",
              "        [27., 28., 29.],\n",
              "        [30., 31., 32.],\n",
              "        [33., 34., 35.]]])"
            ]
          },
          "metadata": {},
          "execution_count": 26
        }
      ]
    },
    {
      "cell_type": "markdown",
      "source": [
        "## 다양한 함수로 numpy 내장함수를 사용하여 생성"
      ],
      "metadata": {
        "id": "NjQgBPYnXHJP"
      }
    },
    {
      "cell_type": "code",
      "source": [
        "#linspace 균등한게 갯수만큼 생성\n",
        "a = np.linspace(0, 1, 6)\n",
        "a"
      ],
      "metadata": {
        "id": "nxzZ04xeP9Dh",
        "colab": {
          "base_uri": "https://localhost:8080/"
        },
        "outputId": "9c6a4375-0afb-4609-b045-e080ed9504c3"
      },
      "execution_count": null,
      "outputs": [
        {
          "output_type": "execute_result",
          "data": {
            "text/plain": [
              "array([0. , 0.2, 0.4, 0.6, 0.8, 1. ])"
            ]
          },
          "metadata": {},
          "execution_count": 28
        }
      ]
    },
    {
      "cell_type": "code",
      "source": [
        "#zeros 0으로 채우는 행렬\n",
        "a2 = np.zeros(3, dtype='int64')\n",
        "a2"
      ],
      "metadata": {
        "colab": {
          "base_uri": "https://localhost:8080/"
        },
        "id": "h_C7_cG7WeiY",
        "outputId": "2be281fb-8b42-4974-ed42-08428f32695f"
      },
      "execution_count": null,
      "outputs": [
        {
          "output_type": "execute_result",
          "data": {
            "text/plain": [
              "array([0, 0, 0])"
            ]
          },
          "metadata": {},
          "execution_count": 30
        }
      ]
    },
    {
      "cell_type": "code",
      "source": [
        "a2 = np.zeros((3,3), dtype='int64')\n",
        "a2"
      ],
      "metadata": {
        "colab": {
          "base_uri": "https://localhost:8080/"
        },
        "id": "ioaBUmULWsVz",
        "outputId": "32794c54-8ca2-4e56-e9b4-58d5801a3d01"
      },
      "execution_count": null,
      "outputs": [
        {
          "output_type": "execute_result",
          "data": {
            "text/plain": [
              "array([[0, 0, 0],\n",
              "       [0, 0, 0],\n",
              "       [0, 0, 0]])"
            ]
          },
          "metadata": {},
          "execution_count": 32
        }
      ]
    },
    {
      "cell_type": "code",
      "source": [
        "#ones\n",
        "a3 = np.ones(2, dtype='int64')\n",
        "a3"
      ],
      "metadata": {
        "colab": {
          "base_uri": "https://localhost:8080/"
        },
        "id": "rsruJBpvWzhR",
        "outputId": "6db2e31a-50b4-4071-8a5d-4a70a7684089"
      },
      "execution_count": null,
      "outputs": [
        {
          "output_type": "execute_result",
          "data": {
            "text/plain": [
              "array([1, 1])"
            ]
          },
          "metadata": {},
          "execution_count": 34
        }
      ]
    },
    {
      "cell_type": "code",
      "source": [
        "#ones 1로 채우는 행렬\n",
        "a3 = np.ones((5,5), dtype='int64')\n",
        "a3"
      ],
      "metadata": {
        "colab": {
          "base_uri": "https://localhost:8080/"
        },
        "id": "QBhxFQmzW-Tp",
        "outputId": "ed180213-262a-4ff9-c64c-d561cbf33daf"
      },
      "execution_count": null,
      "outputs": [
        {
          "output_type": "execute_result",
          "data": {
            "text/plain": [
              "array([[1, 1, 1, 1, 1],\n",
              "       [1, 1, 1, 1, 1],\n",
              "       [1, 1, 1, 1, 1],\n",
              "       [1, 1, 1, 1, 1],\n",
              "       [1, 1, 1, 1, 1]])"
            ]
          },
          "metadata": {},
          "execution_count": 35
        }
      ]
    },
    {
      "cell_type": "code",
      "source": [
        "#full 지정한 값으로 채우는 행렬\n",
        "a4 = np.full((3,3),3)\n",
        "a4"
      ],
      "metadata": {
        "colab": {
          "base_uri": "https://localhost:8080/"
        },
        "id": "lSIUKhMJXCl4",
        "outputId": "6f513ca0-05ff-45bf-c971-368e96b1f3d8"
      },
      "execution_count": null,
      "outputs": [
        {
          "output_type": "execute_result",
          "data": {
            "text/plain": [
              "array([[3, 3, 3],\n",
              "       [3, 3, 3],\n",
              "       [3, 3, 3]])"
            ]
          },
          "metadata": {},
          "execution_count": 38
        }
      ]
    },
    {
      "cell_type": "code",
      "source": [
        "a4.dtype"
      ],
      "metadata": {
        "colab": {
          "base_uri": "https://localhost:8080/"
        },
        "id": "e7qE1K47XTD1",
        "outputId": "8199cf32-86f1-4f54-d3b7-d478d65e1d48"
      },
      "execution_count": null,
      "outputs": [
        {
          "output_type": "execute_result",
          "data": {
            "text/plain": [
              "dtype('int64')"
            ]
          },
          "metadata": {},
          "execution_count": 39
        }
      ]
    },
    {
      "cell_type": "markdown",
      "source": [
        "정방행렬: 행와 열의 갯수같은 행령\n",
        "단위행렬: 대각선 원소는 1이고 나머진 0인 행렬 "
      ],
      "metadata": {
        "id": "b1IMkxonXaUR"
      }
    },
    {
      "cell_type": "code",
      "source": [
        "#identity 정방단위행렬\n",
        "a = np.identity(3)\n",
        "a"
      ],
      "metadata": {
        "colab": {
          "base_uri": "https://localhost:8080/"
        },
        "id": "qVbI8HsYXmk3",
        "outputId": "30658195-f044-4265-eb60-a580f1eeb499"
      },
      "execution_count": null,
      "outputs": [
        {
          "output_type": "execute_result",
          "data": {
            "text/plain": [
              "array([[1., 0., 0.],\n",
              "       [0., 1., 0.],\n",
              "       [0., 0., 1.]])"
            ]
          },
          "metadata": {},
          "execution_count": 41
        }
      ]
    },
    {
      "cell_type": "code",
      "source": [
        "#diag 대각선 배열 생성 및 추출\n",
        "a = np.diag([1,2,3])\n",
        "a"
      ],
      "metadata": {
        "colab": {
          "base_uri": "https://localhost:8080/"
        },
        "id": "J35KLD3AYCSd",
        "outputId": "9431ebf7-7aaa-4b2d-df08-4ea50bfeddc9"
      },
      "execution_count": null,
      "outputs": [
        {
          "output_type": "execute_result",
          "data": {
            "text/plain": [
              "array([[1, 0, 0],\n",
              "       [0, 2, 0],\n",
              "       [0, 0, 3]])"
            ]
          },
          "metadata": {},
          "execution_count": 42
        }
      ]
    },
    {
      "cell_type": "code",
      "source": [
        "a = np.arange(9).reshape(3,3)\n",
        "a\n"
      ],
      "metadata": {
        "colab": {
          "base_uri": "https://localhost:8080/"
        },
        "id": "UPllvm1EYPdQ",
        "outputId": "952fa11b-0eb7-4d6a-e6c8-93bd15a0028e"
      },
      "execution_count": null,
      "outputs": [
        {
          "output_type": "execute_result",
          "data": {
            "text/plain": [
              "array([[0, 1, 2],\n",
              "       [3, 4, 5],\n",
              "       [6, 7, 8]])"
            ]
          },
          "metadata": {},
          "execution_count": 45
        }
      ]
    },
    {
      "cell_type": "code",
      "source": [
        "np.diag(a)"
      ],
      "metadata": {
        "colab": {
          "base_uri": "https://localhost:8080/"
        },
        "id": "aONy9R0fYV9n",
        "outputId": "20909c1d-d2a2-437f-85bc-8c155e873699"
      },
      "execution_count": null,
      "outputs": [
        {
          "output_type": "execute_result",
          "data": {
            "text/plain": [
              "array([0, 4, 8])"
            ]
          },
          "metadata": {},
          "execution_count": 46
        }
      ]
    },
    {
      "cell_type": "code",
      "source": [
        "#eye 대각선 1, 나머지 0인 2차원 행렬 꼭 정방행렬 아님\n",
        "a = np.eye(3)\n",
        "a"
      ],
      "metadata": {
        "colab": {
          "base_uri": "https://localhost:8080/"
        },
        "id": "IzWwZYxNYhqc",
        "outputId": "5bf5caec-cbbf-4516-8fed-d2ecf73722a1"
      },
      "execution_count": null,
      "outputs": [
        {
          "output_type": "execute_result",
          "data": {
            "text/plain": [
              "array([[1., 0., 0.],\n",
              "       [0., 1., 0.],\n",
              "       [0., 0., 1.]])"
            ]
          },
          "metadata": {},
          "execution_count": 48
        }
      ]
    },
    {
      "cell_type": "code",
      "source": [
        "a = np.eye(2,3)\n",
        "a"
      ],
      "metadata": {
        "colab": {
          "base_uri": "https://localhost:8080/"
        },
        "id": "M5R9rqJcYyH8",
        "outputId": "5e830f2c-aea7-4974-e6bf-bb40c92b2169"
      },
      "execution_count": null,
      "outputs": [
        {
          "output_type": "execute_result",
          "data": {
            "text/plain": [
              "array([[1., 0., 0.],\n",
              "       [0., 1., 0.]])"
            ]
          },
          "metadata": {},
          "execution_count": 49
        }
      ]
    },
    {
      "cell_type": "markdown",
      "source": [
        "***likes()함수로 배열생성"
      ],
      "metadata": {
        "id": "MAjYkyKUaE2E"
      }
    },
    {
      "cell_type": "code",
      "source": [
        "#zeros_like() \n",
        "a = np. arange(6).reshape(2,3)\n",
        "a"
      ],
      "metadata": {
        "id": "bGRJZkHdP-sW",
        "colab": {
          "base_uri": "https://localhost:8080/"
        },
        "outputId": "32c5107a-86d3-4fe7-dac0-ed781d683cab"
      },
      "execution_count": null,
      "outputs": [
        {
          "output_type": "execute_result",
          "data": {
            "text/plain": [
              "array([[0, 1, 2],\n",
              "       [3, 4, 5]])"
            ]
          },
          "metadata": {},
          "execution_count": 50
        }
      ]
    },
    {
      "cell_type": "code",
      "source": [
        "np.zeros_like(a) "
      ],
      "metadata": {
        "colab": {
          "base_uri": "https://localhost:8080/"
        },
        "id": "YXF-w7uiZK60",
        "outputId": "195e2aed-bdf3-4fd2-bdb2-69215e25838a"
      },
      "execution_count": null,
      "outputs": [
        {
          "output_type": "execute_result",
          "data": {
            "text/plain": [
              "array([[0, 0, 0],\n",
              "       [0, 0, 0]])"
            ]
          },
          "metadata": {},
          "execution_count": 51
        }
      ]
    },
    {
      "cell_type": "code",
      "source": [
        "np.ones_like(a) "
      ],
      "metadata": {
        "colab": {
          "base_uri": "https://localhost:8080/"
        },
        "id": "O_OdATsTZRka",
        "outputId": "8eb4977d-6776-4c90-fc9b-0aff9fc44a4b"
      },
      "execution_count": null,
      "outputs": [
        {
          "output_type": "execute_result",
          "data": {
            "text/plain": [
              "array([[1, 1, 1],\n",
              "       [1, 1, 1]])"
            ]
          },
          "metadata": {},
          "execution_count": 52
        }
      ]
    },
    {
      "cell_type": "code",
      "source": [
        "np.full_like(a,7) "
      ],
      "metadata": {
        "colab": {
          "base_uri": "https://localhost:8080/"
        },
        "id": "BdotnsSZZVKg",
        "outputId": "439092a2-38e2-42a3-d433-f8be92ae6bdf"
      },
      "execution_count": null,
      "outputs": [
        {
          "output_type": "execute_result",
          "data": {
            "text/plain": [
              "array([[7, 7, 7],\n",
              "       [7, 7, 7]])"
            ]
          },
          "metadata": {},
          "execution_count": 53
        }
      ]
    },
    {
      "cell_type": "markdown",
      "source": [
        "Random 서브 패키지를 사용하여 생성"
      ],
      "metadata": {
        "id": "WYlSGorP8sZG"
      }
    },
    {
      "cell_type": "code",
      "source": [
        "#0~1사이의 균일한 확률분포로 실수 난수 발생\n",
        "np.random.rand(5)"
      ],
      "metadata": {
        "id": "8fTmNsELQAcj",
        "colab": {
          "base_uri": "https://localhost:8080/"
        },
        "outputId": "6f862fd2-8c54-49a3-ed4b-939fc583ae99"
      },
      "execution_count": null,
      "outputs": [
        {
          "output_type": "execute_result",
          "data": {
            "text/plain": [
              "array([0.76354928, 0.6812732 , 0.86797848, 0.6887304 , 0.07430498])"
            ]
          },
          "metadata": {},
          "execution_count": 54
        }
      ]
    },
    {
      "cell_type": "code",
      "source": [
        "#표준정규분포의 난수 추출, 평균0, 분산 1\n",
        "rnd = np.random.randn(7)\n",
        "rnd\n",
        "rnd.round(2)"
      ],
      "metadata": {
        "colab": {
          "base_uri": "https://localhost:8080/"
        },
        "id": "zbXFUkgVZxUX",
        "outputId": "cf6cdc4f-2c73-4338-e85f-f03f05158a3b"
      },
      "execution_count": null,
      "outputs": [
        {
          "output_type": "execute_result",
          "data": {
            "text/plain": [
              "array([ 0.85, -0.97,  1.23,  1.46, -1.41, -0.59,  0.19])"
            ]
          },
          "metadata": {},
          "execution_count": 56
        }
      ]
    },
    {
      "cell_type": "code",
      "source": [
        "#평균 165, 표준편차 10\n",
        "rnd = np.random.randn(7) *10 + 165\n",
        "rnd\n",
        "rnd.astype(int)"
      ],
      "metadata": {
        "colab": {
          "base_uri": "https://localhost:8080/"
        },
        "id": "AF4fQMr4aH-K",
        "outputId": "e7371d2d-4d7c-4d2f-bd5e-7c3fde5a0b44"
      },
      "execution_count": null,
      "outputs": [
        {
          "output_type": "execute_result",
          "data": {
            "text/plain": [
              "array([166, 175, 169, 179, 181, 170, 162])"
            ]
          },
          "metadata": {},
          "execution_count": 59
        }
      ]
    },
    {
      "cell_type": "code",
      "source": [
        "a = np.arange(10)\n",
        "a"
      ],
      "metadata": {
        "colab": {
          "base_uri": "https://localhost:8080/"
        },
        "id": "U2KZfWX0ae3k",
        "outputId": "66565ff4-835d-46b4-b89f-1ab33959b490"
      },
      "execution_count": null,
      "outputs": [
        {
          "output_type": "execute_result",
          "data": {
            "text/plain": [
              "array([0, 1, 2, 3, 4, 5, 6, 7, 8, 9])"
            ]
          },
          "metadata": {},
          "execution_count": 60
        }
      ]
    },
    {
      "cell_type": "code",
      "source": [
        "np.random.shuffle(a)\n",
        "a"
      ],
      "metadata": {
        "colab": {
          "base_uri": "https://localhost:8080/"
        },
        "id": "PDAgC9pfaiOZ",
        "outputId": "96deae30-d714-4604-fbd9-00d91c40373c"
      },
      "execution_count": null,
      "outputs": [
        {
          "output_type": "execute_result",
          "data": {
            "text/plain": [
              "array([6, 5, 7, 1, 8, 0, 4, 9, 2, 3])"
            ]
          },
          "metadata": {},
          "execution_count": 63
        }
      ]
    },
    {
      "cell_type": "code",
      "source": [
        "np.random.randint(1, 100, size=10) #끝값이 안들어감"
      ],
      "metadata": {
        "colab": {
          "base_uri": "https://localhost:8080/"
        },
        "id": "Ugmr8aRoasPU",
        "outputId": "dde00079-86d4-44e8-a94f-8ea01fdf620b"
      },
      "execution_count": null,
      "outputs": [
        {
          "output_type": "execute_result",
          "data": {
            "text/plain": [
              "array([57,  7, 58, 67, 22, 86,  4, 95, 15, 31])"
            ]
          },
          "metadata": {},
          "execution_count": 65
        }
      ]
    },
    {
      "cell_type": "markdown",
      "source": [
        "#실습I"
      ],
      "metadata": {
        "id": "X0Q6_1cHRQno"
      }
    },
    {
      "cell_type": "markdown",
      "source": [
        "1.  0에서 9까지의 정수값을 가지는 ndarray 객체a를 넘파이를 이용하여 작성하여 다음과 같이 출력하세요\n",
        "\n",
        "```\n",
        "array([0, 1, 2, 3, 4, 5, 6, 7, 8, 9])\n",
        "```\n",
        "\n",
        "\n",
        "\n",
        "\n"
      ],
      "metadata": {
        "id": "OY713pMXSGN5"
      }
    },
    {
      "cell_type": "code",
      "source": [
        "a= np.array([0,1,2,3,4,5,6,7,8,9])\n",
        "a"
      ],
      "metadata": {
        "id": "A9YKIjXIQEDD",
        "colab": {
          "base_uri": "https://localhost:8080/"
        },
        "outputId": "efd2cba7-1fec-4729-c515-45be05cc6bc5"
      },
      "execution_count": null,
      "outputs": [
        {
          "output_type": "execute_result",
          "data": {
            "text/plain": [
              "array([0, 1, 2, 3, 4, 5, 6, 7, 8, 9])"
            ]
          },
          "metadata": {},
          "execution_count": 67
        }
      ]
    },
    {
      "cell_type": "markdown",
      "source": [
        "2. range()함수를 사용하여 0에서 9까지의 정수 값을 가지는 ndarray 객체 b를 만들고 문제 1의 결과와 같이 나타내도록 하세요."
      ],
      "metadata": {
        "id": "uDGk5QrpTYa8"
      }
    },
    {
      "cell_type": "code",
      "source": [
        "b= np.array(range(10))\n",
        "b"
      ],
      "metadata": {
        "id": "ijRovRruQEeI",
        "colab": {
          "base_uri": "https://localhost:8080/"
        },
        "outputId": "ac7a3dc1-688f-4056-828e-2cba52e43c0d"
      },
      "execution_count": null,
      "outputs": [
        {
          "output_type": "execute_result",
          "data": {
            "text/plain": [
              "array([0, 1, 2, 3, 4, 5, 6, 7, 8, 9])"
            ]
          },
          "metadata": {},
          "execution_count": 68
        }
      ]
    },
    {
      "cell_type": "markdown",
      "source": [
        "3. 문제 2의 코드를 수정하여 0에서 9까지의 정수 값 중에서 다음과 같이 짝수를 가지는 ndarray 객체 c를 출력하세요.\n",
        "\n",
        "\n",
        "```\n",
        "array([0, 2, 4, 6, 8])\n",
        "```\n",
        "\n"
      ],
      "metadata": {
        "id": "2oCtNc9_UM1O"
      }
    },
    {
      "cell_type": "code",
      "source": [
        "c = np.array(range(0,10,2))\n",
        "c"
      ],
      "metadata": {
        "id": "--wcjyO9QE-Q",
        "colab": {
          "base_uri": "https://localhost:8080/"
        },
        "outputId": "ddb7d005-f9a9-43e0-ef1b-879e7d385810"
      },
      "execution_count": null,
      "outputs": [
        {
          "output_type": "execute_result",
          "data": {
            "text/plain": [
              "array([0, 2, 4, 6, 8])"
            ]
          },
          "metadata": {},
          "execution_count": 72
        }
      ]
    },
    {
      "cell_type": "markdown",
      "source": [
        "4. 문제 3번 ndarray 객체 c의 shape, ndim, dtype, size. itemsize를 다음과 같이 출력하세요."
      ],
      "metadata": {
        "id": "gZUeTNeyVBSo"
      }
    },
    {
      "cell_type": "code",
      "source": [
        "print(f'c.shape = {c.shape}')\n",
        "print(f'c.ndim = {c.ndim}')\n",
        "print(f'c.dtype = {c.dtype}')\n",
        "print(f'c.size = {c.size}')\n",
        "print(f'c.itemsize = {c.itemsize}')"
      ],
      "metadata": {
        "id": "xzssVFqcQGsR",
        "colab": {
          "base_uri": "https://localhost:8080/"
        },
        "outputId": "d8f4bd0b-0d36-4d81-993c-5cb847c3112f"
      },
      "execution_count": null,
      "outputs": [
        {
          "output_type": "stream",
          "name": "stdout",
          "text": [
            "c.shape = (5,)\n",
            "c.ndim = 1\n",
            "c.dtype = int64\n",
            "c.size = 5\n",
            "c.itemsize = 8\n"
          ]
        }
      ]
    },
    {
      "cell_type": "markdown",
      "source": [
        "5. full() 함수를 이용하여 모든 원소의 값이 2인 3x3 배열 a1을 생성하세요.\n",
        "```\n",
        "a1 = [[2 2 2]\n",
        "      [2 2 2]\n",
        "      [2 2 2]]\n",
        "```"
      ],
      "metadata": {
        "id": "GrOqtFVXVSEi"
      }
    },
    {
      "cell_type": "code",
      "source": [
        "a1 = np.full((3,3),2)\n",
        "a1"
      ],
      "metadata": {
        "id": "idBD6SpRQI75",
        "colab": {
          "base_uri": "https://localhost:8080/"
        },
        "outputId": "6531ae69-d168-46f1-b993-0b42b7b86f99"
      },
      "execution_count": null,
      "outputs": [
        {
          "output_type": "execute_result",
          "data": {
            "text/plain": [
              "array([[2, 2, 2],\n",
              "       [2, 2, 2],\n",
              "       [2, 2, 2]])"
            ]
          },
          "metadata": {},
          "execution_count": 77
        }
      ]
    },
    {
      "cell_type": "markdown",
      "source": [
        "6. arange() 함수를 사용하여 1에서 12까지 12개의 원소를 가지는 1차원 배열 a2를 생성하세요.\n",
        "\n",
        "```\n",
        "a2 = [ 1 2 3 4 5 6 7 8 9 10 11 12]\n",
        "```"
      ],
      "metadata": {
        "id": "qY6BlFHKXjCG"
      }
    },
    {
      "cell_type": "code",
      "source": [
        "a2 = np.arange(1, 13)\n",
        "print('a2 = ',a2)"
      ],
      "metadata": {
        "id": "0XeClxANQH3-",
        "colab": {
          "base_uri": "https://localhost:8080/"
        },
        "outputId": "67295558-74b9-4d33-d1ef-69287e9dfe1a"
      },
      "execution_count": null,
      "outputs": [
        {
          "output_type": "stream",
          "name": "stdout",
          "text": [
            "a2 =  [ 1  2  3  4  5  6  7  8  9 10 11 12]\n"
          ]
        }
      ]
    },
    {
      "cell_type": "markdown",
      "source": [
        "7. arange() 함수의 step 값을 이용하여 1에서 50까지 정수 중에서 3의 배수만을 가지는 배열 a3을 생성하세요.\n",
        "\n",
        "```\n",
        "a3 = [ 3 6 9 12 15 18 21 24 27 30 33 36 39 42 45 48]\n",
        "```\n"
      ],
      "metadata": {
        "id": "1yT8W9QAX3rf"
      }
    },
    {
      "cell_type": "code",
      "source": [
        "a3 = np.arange(3, 50, 3)\n",
        "a3"
      ],
      "metadata": {
        "id": "FmtANM22QMPw",
        "colab": {
          "base_uri": "https://localhost:8080/"
        },
        "outputId": "2cc9b587-962a-45f6-8c1c-cb536aa22672"
      },
      "execution_count": null,
      "outputs": [
        {
          "output_type": "execute_result",
          "data": {
            "text/plain": [
              "array([ 3,  6,  9, 12, 15, 18, 21, 24, 27, 30, 33, 36, 39, 42, 45, 48])"
            ]
          },
          "metadata": {},
          "execution_count": 80
        }
      ]
    },
    {
      "cell_type": "markdown",
      "source": [
        "8. 0에서 20 사이에서 동일한 간격의 값을 가지는 원소 5개를 가진 a4 배열을 생성하세요.\n",
        "\n",
        "```\n",
        "a4 = [ 0. 5. 10. 15. 20.]\n",
        "```"
      ],
      "metadata": {
        "id": "mGknYh_wYPbE"
      }
    },
    {
      "cell_type": "code",
      "source": [
        "a4 = np.linspace(0 ,20, 5)\n",
        "a4"
      ],
      "metadata": {
        "id": "znWO3x9BQLKp",
        "colab": {
          "base_uri": "https://localhost:8080/"
        },
        "outputId": "0d2033eb-8439-43ed-9bde-ac4056b47ef4"
      },
      "execution_count": null,
      "outputs": [
        {
          "output_type": "execute_result",
          "data": {
            "text/plain": [
              "array([ 0.,  5., 10., 15., 20.])"
            ]
          },
          "metadata": {},
          "execution_count": 82
        }
      ]
    },
    {
      "cell_type": "markdown",
      "source": [
        "# Numpy 배열 연산"
      ],
      "metadata": {
        "id": "hjm7hhc9SFa_"
      }
    },
    {
      "cell_type": "markdown",
      "source": [
        "## 사칙연산 element wise"
      ],
      "metadata": {
        "id": "SMmdutMgaXMK"
      }
    },
    {
      "cell_type": "code",
      "source": [
        "a = np.array([1,2,3,4])\n",
        "b = np.array([5,6,7,8])"
      ],
      "metadata": {
        "id": "_MYCoBuYipWg"
      },
      "execution_count": null,
      "outputs": []
    },
    {
      "cell_type": "code",
      "source": [
        "#덧셈\n",
        "print('a+b=',a+b)\n",
        "print('a+b=',np.add(a,b))\n",
        "#뺄셈\n",
        "print('a-b=',a-b)\n",
        "print('a-b=',np.subtract(a,b))\n",
        "#곱셈\n",
        "print('a*b=',a*b)\n",
        "print('a*b=',np.multiply(a,b))\n",
        "#나숫셈\n",
        "print('a/b=',a/b)\n",
        "print('a/b=',np.divide(a,b))\n",
        "#거듭제곱\n",
        "print('a**b=',a**b)\n",
        "print('a**b=',np.power(a,b))"
      ],
      "metadata": {
        "colab": {
          "base_uri": "https://localhost:8080/"
        },
        "id": "17YXcqT6i3O4",
        "outputId": "4b1b224a-1926-4643-c101-1cbd12a8f7a9"
      },
      "execution_count": null,
      "outputs": [
        {
          "output_type": "stream",
          "name": "stdout",
          "text": [
            "a+b= [ 6  8 10 12]\n",
            "a+b= [ 6  8 10 12]\n",
            "a-b= [-4 -4 -4 -4]\n",
            "a-b= [-4 -4 -4 -4]\n",
            "a*b= [ 5 12 21 32]\n",
            "a*b= [ 5 12 21 32]\n",
            "a/b= [0.2        0.33333333 0.42857143 0.5       ]\n",
            "a/b= [0.2        0.33333333 0.42857143 0.5       ]\n",
            "a**b= [    1    64  2187 65536]\n",
            "a**b= [    1    64  2187 65536]\n"
          ]
        }
      ]
    },
    {
      "cell_type": "code",
      "source": [
        "a1 = np.array([[1,2],[3,4]])\n",
        "a2= np.array([[5,6],[7,8]])\n",
        "print(a1)\n",
        "print(a2)"
      ],
      "metadata": {
        "colab": {
          "base_uri": "https://localhost:8080/"
        },
        "id": "mBU4hl7lj20C",
        "outputId": "cd583375-557a-4b52-9232-b660809f3b98"
      },
      "execution_count": null,
      "outputs": [
        {
          "output_type": "stream",
          "name": "stdout",
          "text": [
            "[[1 2]\n",
            " [3 4]]\n",
            "[[5 6]\n",
            " [7 8]]\n"
          ]
        }
      ]
    },
    {
      "cell_type": "code",
      "source": [
        "a1 + a2"
      ],
      "metadata": {
        "colab": {
          "base_uri": "https://localhost:8080/"
        },
        "id": "fONxNzzTkIYC",
        "outputId": "108acf66-410a-4454-8f17-bab74f2c7592"
      },
      "execution_count": null,
      "outputs": [
        {
          "output_type": "execute_result",
          "data": {
            "text/plain": [
              "array([[ 6,  8],\n",
              "       [10, 12]])"
            ]
          },
          "metadata": {},
          "execution_count": 94
        }
      ]
    },
    {
      "cell_type": "code",
      "source": [
        "#배열의 곱셈\n",
        "np.multiply(a1, a2) # a1 * a2 "
      ],
      "metadata": {
        "colab": {
          "base_uri": "https://localhost:8080/"
        },
        "id": "Mx9fh4KfkNfh",
        "outputId": "adbb7275-c234-445a-d309-ff855cd976f6"
      },
      "execution_count": null,
      "outputs": [
        {
          "output_type": "execute_result",
          "data": {
            "text/plain": [
              "array([[ 5, 12],\n",
              "       [21, 32]])"
            ]
          },
          "metadata": {},
          "execution_count": 95
        }
      ]
    },
    {
      "cell_type": "code",
      "source": [
        "#행렬의 곱셈\n",
        "np.matmul(a1, a2) # a1 @ a2 "
      ],
      "metadata": {
        "colab": {
          "base_uri": "https://localhost:8080/"
        },
        "id": "WxyWee_tkaOM",
        "outputId": "bd15322d-e01c-466a-b6f6-1127e54c38d5"
      },
      "execution_count": null,
      "outputs": [
        {
          "output_type": "execute_result",
          "data": {
            "text/plain": [
              "array([[19, 22],\n",
              "       [43, 50]])"
            ]
          },
          "metadata": {},
          "execution_count": 96
        }
      ]
    },
    {
      "cell_type": "markdown",
      "source": [
        "## 브로드캐스팅"
      ],
      "metadata": {
        "id": "ESDTdJ6tv_8p"
      }
    },
    {
      "cell_type": "code",
      "source": [
        "a = np.array([1,2,3,4])\n",
        "a + 1"
      ],
      "metadata": {
        "id": "PxLmMP7IQSE3",
        "colab": {
          "base_uri": "https://localhost:8080/"
        },
        "outputId": "5ca56046-dd3a-4b47-e6da-0cdf701eb89f"
      },
      "execution_count": null,
      "outputs": [
        {
          "output_type": "execute_result",
          "data": {
            "text/plain": [
              "array([2, 3, 4, 5])"
            ]
          },
          "metadata": {},
          "execution_count": 98
        }
      ]
    },
    {
      "cell_type": "code",
      "source": [
        "a*3"
      ],
      "metadata": {
        "colab": {
          "base_uri": "https://localhost:8080/"
        },
        "id": "Bw2e5KRYk_2d",
        "outputId": "18b3d00c-a34d-44f5-8f62-a7aa4570e4a5"
      },
      "execution_count": null,
      "outputs": [
        {
          "output_type": "execute_result",
          "data": {
            "text/plain": [
              "array([ 3,  6,  9, 12])"
            ]
          },
          "metadata": {},
          "execution_count": 99
        }
      ]
    },
    {
      "cell_type": "code",
      "source": [
        "b = np.zeros((2,2,4))\n",
        "b"
      ],
      "metadata": {
        "colab": {
          "base_uri": "https://localhost:8080/"
        },
        "id": "adBO1apalFQq",
        "outputId": "c99da1de-85be-479f-ae4f-257bfa4c0ac4"
      },
      "execution_count": null,
      "outputs": [
        {
          "output_type": "execute_result",
          "data": {
            "text/plain": [
              "array([[[0., 0., 0., 0.],\n",
              "        [0., 0., 0., 0.]],\n",
              "\n",
              "       [[0., 0., 0., 0.],\n",
              "        [0., 0., 0., 0.]]])"
            ]
          },
          "metadata": {},
          "execution_count": 100
        }
      ]
    },
    {
      "cell_type": "code",
      "source": [
        "a+b"
      ],
      "metadata": {
        "colab": {
          "base_uri": "https://localhost:8080/"
        },
        "id": "G4OWBP4FlFZS",
        "outputId": "f8ce337d-64b8-43f1-8b67-8e0b3594931b"
      },
      "execution_count": null,
      "outputs": [
        {
          "output_type": "execute_result",
          "data": {
            "text/plain": [
              "array([[[1., 2., 3., 4.],\n",
              "        [1., 2., 3., 4.]],\n",
              "\n",
              "       [[1., 2., 3., 4.],\n",
              "        [1., 2., 3., 4.]]])"
            ]
          },
          "metadata": {},
          "execution_count": 101
        }
      ]
    },
    {
      "cell_type": "code",
      "source": [
        "a = np.arange(0, 40, 10).reshape(4,1)\n",
        "a"
      ],
      "metadata": {
        "colab": {
          "base_uri": "https://localhost:8080/"
        },
        "id": "iZR_xq_TlZoB",
        "outputId": "570be808-d77e-4fa8-a78f-cd96693727c0"
      },
      "execution_count": null,
      "outputs": [
        {
          "output_type": "execute_result",
          "data": {
            "text/plain": [
              "array([[ 0],\n",
              "       [10],\n",
              "       [20],\n",
              "       [30]])"
            ]
          },
          "metadata": {},
          "execution_count": 102
        }
      ]
    },
    {
      "cell_type": "code",
      "source": [
        "b = np. arange(0,3)\n",
        "b"
      ],
      "metadata": {
        "colab": {
          "base_uri": "https://localhost:8080/"
        },
        "id": "M5k7SMNqlgpC",
        "outputId": "a41f1200-f7db-48e1-e9d7-c15af5290ccf"
      },
      "execution_count": null,
      "outputs": [
        {
          "output_type": "execute_result",
          "data": {
            "text/plain": [
              "array([0, 1, 2])"
            ]
          },
          "metadata": {},
          "execution_count": 104
        }
      ]
    },
    {
      "cell_type": "code",
      "source": [
        "a+b"
      ],
      "metadata": {
        "colab": {
          "base_uri": "https://localhost:8080/"
        },
        "id": "MSoPwIukl1SE",
        "outputId": "cfb600c6-561d-47a4-e89b-625ddd5853bb"
      },
      "execution_count": null,
      "outputs": [
        {
          "output_type": "execute_result",
          "data": {
            "text/plain": [
              "array([[ 0,  1,  2],\n",
              "       [10, 11, 12],\n",
              "       [20, 21, 22],\n",
              "       [30, 31, 32]])"
            ]
          },
          "metadata": {},
          "execution_count": 105
        }
      ]
    },
    {
      "cell_type": "code",
      "source": [
        ""
      ],
      "metadata": {
        "id": "PVfnASjal2gt"
      },
      "execution_count": null,
      "outputs": []
    },
    {
      "cell_type": "markdown",
      "source": [
        "# 실습II"
      ],
      "metadata": {
        "id": "aeKm_rRTxd3_"
      }
    },
    {
      "cell_type": "markdown",
      "source": [
        "1. 1에서 9까지의 모든 정수 값을 크기 순서대로 가지는 3x3 크기의 행렬 a를 생성하고, 모든 성분의 값이 2인 3x3 크기의 행렬 b를 생성하여라.\n",
        "\n",
        "\n",
        "```\n",
        "a= [[1 2 3]  \n",
        " [4 5 6]\n",
        " [7 8 9]]\n",
        "\n",
        " b= [[2 2 2]\n",
        " [2 2 2]\n",
        " [2 2 2]]\n",
        "```\n",
        "\n"
      ],
      "metadata": {
        "id": "F7A50Y2KxvZq"
      }
    },
    {
      "cell_type": "code",
      "source": [
        "a = np.arange(1,10).reshape(3,3)\n",
        "print('a=',a)"
      ],
      "metadata": {
        "id": "wFd5Aj3UQUFg",
        "colab": {
          "base_uri": "https://localhost:8080/"
        },
        "outputId": "ff2e57d2-8480-4d41-e084-f0b617ebb167"
      },
      "execution_count": null,
      "outputs": [
        {
          "output_type": "stream",
          "name": "stdout",
          "text": [
            "a= [[1 2 3]\n",
            " [4 5 6]\n",
            " [7 8 9]]\n"
          ]
        }
      ]
    },
    {
      "cell_type": "code",
      "source": [
        "b = np.full((3,3),2)\n",
        "print('b=', b)"
      ],
      "metadata": {
        "colab": {
          "base_uri": "https://localhost:8080/"
        },
        "id": "TY-Fk7yRoBIW",
        "outputId": "af721d21-fb11-4351-9fd1-e1f207b4b5a9"
      },
      "execution_count": null,
      "outputs": [
        {
          "output_type": "stream",
          "name": "stdout",
          "text": [
            "b= [[2 2 2]\n",
            " [2 2 2]\n",
            " [2 2 2]]\n"
          ]
        }
      ]
    },
    {
      "cell_type": "markdown",
      "source": [
        "2. 다음 행렬 연산의 결과를 예상한 후 실행하고 그 결과를 적으세요."
      ],
      "metadata": {
        "id": "xfKWrLQzyjJl"
      }
    },
    {
      "cell_type": "code",
      "source": [
        "a + b"
      ],
      "metadata": {
        "id": "rRfrtXoyxcWF",
        "colab": {
          "base_uri": "https://localhost:8080/"
        },
        "outputId": "9e675887-6903-4dab-a836-b88e7c91c64e"
      },
      "execution_count": null,
      "outputs": [
        {
          "output_type": "execute_result",
          "data": {
            "text/plain": [
              "array([[ 3,  4,  5],\n",
              "       [ 6,  7,  8],\n",
              "       [ 9, 10, 11]])"
            ]
          },
          "metadata": {},
          "execution_count": 108
        }
      ]
    },
    {
      "cell_type": "code",
      "source": [
        "a - b\n"
      ],
      "metadata": {
        "id": "hGk-BpfhxcXk",
        "colab": {
          "base_uri": "https://localhost:8080/"
        },
        "outputId": "887b1939-8117-4736-fa0f-a7c96e2d9550"
      },
      "execution_count": null,
      "outputs": [
        {
          "output_type": "execute_result",
          "data": {
            "text/plain": [
              "array([[-1,  0,  1],\n",
              "       [ 2,  3,  4],\n",
              "       [ 5,  6,  7]])"
            ]
          },
          "metadata": {},
          "execution_count": 109
        }
      ]
    },
    {
      "cell_type": "code",
      "source": [
        "a * b\n"
      ],
      "metadata": {
        "id": "Hq_CxM2Bxcbq",
        "colab": {
          "base_uri": "https://localhost:8080/"
        },
        "outputId": "dfdb6201-2347-4f75-bb12-0cc21fd346d2"
      },
      "execution_count": null,
      "outputs": [
        {
          "output_type": "execute_result",
          "data": {
            "text/plain": [
              "array([[ 2,  4,  6],\n",
              "       [ 8, 10, 12],\n",
              "       [14, 16, 18]])"
            ]
          },
          "metadata": {},
          "execution_count": 110
        }
      ]
    },
    {
      "cell_type": "code",
      "source": [
        "a / b\n"
      ],
      "metadata": {
        "id": "IwTLJJ0zxcdP",
        "colab": {
          "base_uri": "https://localhost:8080/"
        },
        "outputId": "24f4e92b-8f98-4712-ff16-18b53f751cba"
      },
      "execution_count": null,
      "outputs": [
        {
          "output_type": "execute_result",
          "data": {
            "text/plain": [
              "array([[0.5, 1. , 1.5],\n",
              "       [2. , 2.5, 3. ],\n",
              "       [3.5, 4. , 4.5]])"
            ]
          },
          "metadata": {},
          "execution_count": 111
        }
      ]
    },
    {
      "cell_type": "code",
      "source": [
        "a @ b\n"
      ],
      "metadata": {
        "id": "XVd8BpL5xchL",
        "colab": {
          "base_uri": "https://localhost:8080/"
        },
        "outputId": "c9feb4e6-5158-4f4c-da7d-924d9060183e"
      },
      "execution_count": null,
      "outputs": [
        {
          "output_type": "execute_result",
          "data": {
            "text/plain": [
              "array([[12, 12, 12],\n",
              "       [30, 30, 30],\n",
              "       [48, 48, 48]])"
            ]
          },
          "metadata": {},
          "execution_count": 112
        }
      ]
    },
    {
      "cell_type": "code",
      "source": [
        "a ** b\n"
      ],
      "metadata": {
        "id": "p_LZu_-7xci4",
        "colab": {
          "base_uri": "https://localhost:8080/"
        },
        "outputId": "027390c7-81fb-4463-8886-6022f311bc31"
      },
      "execution_count": null,
      "outputs": [
        {
          "output_type": "execute_result",
          "data": {
            "text/plain": [
              "array([[ 1,  4,  9],\n",
              "       [16, 25, 36],\n",
              "       [49, 64, 81]])"
            ]
          },
          "metadata": {},
          "execution_count": 113
        }
      ]
    },
    {
      "cell_type": "markdown",
      "source": [
        "# 배열의 결합"
      ],
      "metadata": {
        "id": "wpn7gpo6zLT0"
      }
    },
    {
      "cell_type": "markdown",
      "source": [
        "concatenate():기존 축(차원)에 따라 결합\n",
        "stack() 새로운 축(차원)에 따라 결합, hstack(), vstack(), dstack()"
      ],
      "metadata": {
        "id": "jXXSfi4NDWJ3"
      }
    },
    {
      "cell_type": "code",
      "source": [
        "a1 = np.array([1,2,3])\n",
        "a2 = np.array([4,5,6])\n",
        "np.concatenate((a1, a2), axis = 0)"
      ],
      "metadata": {
        "id": "MfRTtaoWQewC",
        "colab": {
          "base_uri": "https://localhost:8080/"
        },
        "outputId": "f86cebdd-f0c1-4dd3-b11a-0bf5ff3bfac2"
      },
      "execution_count": null,
      "outputs": [
        {
          "output_type": "execute_result",
          "data": {
            "text/plain": [
              "array([1, 2, 3, 4, 5, 6])"
            ]
          },
          "metadata": {},
          "execution_count": 114
        }
      ]
    },
    {
      "cell_type": "code",
      "source": [
        "a1 = np.array([[1,2],[3,4]])\n",
        "a1"
      ],
      "metadata": {
        "colab": {
          "base_uri": "https://localhost:8080/"
        },
        "id": "u83FUYgpo_bV",
        "outputId": "d7b3ef4e-0894-4a67-e053-fd19444857e3"
      },
      "execution_count": null,
      "outputs": [
        {
          "output_type": "execute_result",
          "data": {
            "text/plain": [
              "array([[1, 2],\n",
              "       [3, 4]])"
            ]
          },
          "metadata": {},
          "execution_count": 115
        }
      ]
    },
    {
      "cell_type": "code",
      "source": [
        "a2 = np.array([[5,6],[7,8]])\n",
        "a2"
      ],
      "metadata": {
        "colab": {
          "base_uri": "https://localhost:8080/"
        },
        "id": "MyC6Lt_Oo9QK",
        "outputId": "30654789-84bb-41ab-effc-7d319040296e"
      },
      "execution_count": null,
      "outputs": [
        {
          "output_type": "execute_result",
          "data": {
            "text/plain": [
              "array([[5, 6],\n",
              "       [7, 8]])"
            ]
          },
          "metadata": {},
          "execution_count": 117
        }
      ]
    },
    {
      "cell_type": "code",
      "source": [
        "np.concatenate((a1, a2), axis=0)"
      ],
      "metadata": {
        "colab": {
          "base_uri": "https://localhost:8080/"
        },
        "id": "J2D95O9GpPsk",
        "outputId": "d92a89d7-fbfc-45ec-93a2-a327dcd4cdc6"
      },
      "execution_count": null,
      "outputs": [
        {
          "output_type": "execute_result",
          "data": {
            "text/plain": [
              "array([[1, 2],\n",
              "       [3, 4],\n",
              "       [5, 6],\n",
              "       [7, 8]])"
            ]
          },
          "metadata": {},
          "execution_count": 118
        }
      ]
    },
    {
      "cell_type": "code",
      "source": [
        "a = np.stack((a1, a2))\n",
        "a"
      ],
      "metadata": {
        "colab": {
          "base_uri": "https://localhost:8080/"
        },
        "id": "7kCioQ5jperC",
        "outputId": "df93cef9-9210-4f0a-dd83-5158ea3b4eb4"
      },
      "execution_count": null,
      "outputs": [
        {
          "output_type": "execute_result",
          "data": {
            "text/plain": [
              "array([[[1, 2],\n",
              "        [3, 4]],\n",
              "\n",
              "       [[5, 6],\n",
              "        [7, 8]]])"
            ]
          },
          "metadata": {},
          "execution_count": 120
        }
      ]
    },
    {
      "cell_type": "code",
      "source": [
        "a.shape"
      ],
      "metadata": {
        "colab": {
          "base_uri": "https://localhost:8080/"
        },
        "id": "YEDetsoLpoBq",
        "outputId": "b20c2305-83f5-47de-90c0-042767630d25"
      },
      "execution_count": null,
      "outputs": [
        {
          "output_type": "execute_result",
          "data": {
            "text/plain": [
              "(2, 2, 2)"
            ]
          },
          "metadata": {},
          "execution_count": 121
        }
      ]
    },
    {
      "cell_type": "code",
      "source": [
        "a = np.arange(5)\n",
        "a"
      ],
      "metadata": {
        "colab": {
          "base_uri": "https://localhost:8080/"
        },
        "id": "rSoi1FkQp32e",
        "outputId": "12f5e27e-c346-4931-e712-eae924736e05"
      },
      "execution_count": null,
      "outputs": [
        {
          "output_type": "execute_result",
          "data": {
            "text/plain": [
              "array([0, 1, 2, 3, 4])"
            ]
          },
          "metadata": {},
          "execution_count": 122
        }
      ]
    },
    {
      "cell_type": "code",
      "source": [
        "np.hstack([a*10, a*20])"
      ],
      "metadata": {
        "colab": {
          "base_uri": "https://localhost:8080/"
        },
        "id": "R0kilQ5LqAhD",
        "outputId": "31ace0fc-8cd6-4807-8f9b-06219105dd2a"
      },
      "execution_count": null,
      "outputs": [
        {
          "output_type": "execute_result",
          "data": {
            "text/plain": [
              "array([ 0, 10, 20, 30, 40,  0, 20, 40, 60, 80])"
            ]
          },
          "metadata": {},
          "execution_count": 123
        }
      ]
    },
    {
      "cell_type": "code",
      "source": [
        "np.vstack([a*10, a*20])"
      ],
      "metadata": {
        "colab": {
          "base_uri": "https://localhost:8080/"
        },
        "id": "gmQD2R-dqMMt",
        "outputId": "5744da6b-d6ed-4fe2-8060-ed6c4e0b669f"
      },
      "execution_count": null,
      "outputs": [
        {
          "output_type": "execute_result",
          "data": {
            "text/plain": [
              "array([[ 0, 10, 20, 30, 40],\n",
              "       [ 0, 20, 40, 60, 80]])"
            ]
          },
          "metadata": {},
          "execution_count": 124
        }
      ]
    },
    {
      "cell_type": "code",
      "source": [
        "a = np.dstack([a*10, a*20])\n",
        "a"
      ],
      "metadata": {
        "colab": {
          "base_uri": "https://localhost:8080/"
        },
        "id": "SPDFbl41qT7g",
        "outputId": "05e16c74-f932-4f14-bc9b-e2b659fc8ebb"
      },
      "execution_count": null,
      "outputs": [
        {
          "output_type": "execute_result",
          "data": {
            "text/plain": [
              "array([[[   0,    0,    0,    0],\n",
              "        [ 100,  200,  200,  400],\n",
              "        [ 200,  400,  400,  800],\n",
              "        [ 300,  600,  600, 1200],\n",
              "        [ 400,  800,  800, 1600]]])"
            ]
          },
          "metadata": {},
          "execution_count": 129
        }
      ]
    },
    {
      "cell_type": "code",
      "source": [
        "a.shape"
      ],
      "metadata": {
        "colab": {
          "base_uri": "https://localhost:8080/"
        },
        "id": "UcJ-ZynMqa31",
        "outputId": "b6991945-ed53-4e50-b3c7-9787433dab29"
      },
      "execution_count": null,
      "outputs": [
        {
          "output_type": "execute_result",
          "data": {
            "text/plain": [
              "(1, 5, 4)"
            ]
          },
          "metadata": {},
          "execution_count": 130
        }
      ]
    },
    {
      "cell_type": "markdown",
      "source": [
        "# 배열의 분리"
      ],
      "metadata": {
        "id": "XR3BCZWUGUke"
      }
    },
    {
      "cell_type": "code",
      "source": [
        "a = np.arange(1, 25).reshape(4,6)\n",
        "a"
      ],
      "metadata": {
        "id": "ocrMpS08Qg6k",
        "colab": {
          "base_uri": "https://localhost:8080/"
        },
        "outputId": "1802bd25-6e70-4531-ecf7-cfe430b3a57c"
      },
      "execution_count": null,
      "outputs": [
        {
          "output_type": "execute_result",
          "data": {
            "text/plain": [
              "array([[ 1,  2,  3,  4,  5,  6],\n",
              "       [ 7,  8,  9, 10, 11, 12],\n",
              "       [13, 14, 15, 16, 17, 18],\n",
              "       [19, 20, 21, 22, 23, 24]])"
            ]
          },
          "metadata": {},
          "execution_count": 133
        }
      ]
    },
    {
      "cell_type": "code",
      "source": [
        "#hsplit 수평축 - 열방향\n",
        "np.hsplit(a,2)"
      ],
      "metadata": {
        "colab": {
          "base_uri": "https://localhost:8080/"
        },
        "id": "-K5tltA5A_k9",
        "outputId": "f2f8560d-870e-4aeb-89a4-5a8f40bdc57e"
      },
      "execution_count": null,
      "outputs": [
        {
          "output_type": "execute_result",
          "data": {
            "text/plain": [
              "[array([[ 1,  2,  3],\n",
              "        [ 7,  8,  9],\n",
              "        [13, 14, 15],\n",
              "        [19, 20, 21]]), array([[ 4,  5,  6],\n",
              "        [10, 11, 12],\n",
              "        [16, 17, 18],\n",
              "        [22, 23, 24]])]"
            ]
          },
          "metadata": {},
          "execution_count": 134
        }
      ]
    },
    {
      "cell_type": "code",
      "source": [
        "#vsplit 수직축 -행방향\n",
        "np.vsplit(a,2)"
      ],
      "metadata": {
        "colab": {
          "base_uri": "https://localhost:8080/"
        },
        "id": "CjVnJ11eBQmF",
        "outputId": "367cae57-e96b-4c32-f839-f0292db80b91"
      },
      "execution_count": null,
      "outputs": [
        {
          "output_type": "execute_result",
          "data": {
            "text/plain": [
              "[array([[ 1,  2,  3,  4,  5,  6],\n",
              "        [ 7,  8,  9, 10, 11, 12]]), array([[13, 14, 15, 16, 17, 18],\n",
              "        [19, 20, 21, 22, 23, 24]])]"
            ]
          },
          "metadata": {},
          "execution_count": 135
        }
      ]
    },
    {
      "cell_type": "code",
      "source": [
        "np.hsplit(a,3)"
      ],
      "metadata": {
        "colab": {
          "base_uri": "https://localhost:8080/"
        },
        "id": "QMqj15sHBiG7",
        "outputId": "0fbb0c9d-d78e-4056-e66d-8a6a42958c64"
      },
      "execution_count": null,
      "outputs": [
        {
          "output_type": "execute_result",
          "data": {
            "text/plain": [
              "[array([[ 1,  2],\n",
              "        [ 7,  8],\n",
              "        [13, 14],\n",
              "        [19, 20]]), array([[ 3,  4],\n",
              "        [ 9, 10],\n",
              "        [15, 16],\n",
              "        [21, 22]]), array([[ 5,  6],\n",
              "        [11, 12],\n",
              "        [17, 18],\n",
              "        [23, 24]])]"
            ]
          },
          "metadata": {},
          "execution_count": 136
        }
      ]
    },
    {
      "cell_type": "code",
      "source": [
        "np.vsplit(a,3)"
      ],
      "metadata": {
        "colab": {
          "base_uri": "https://localhost:8080/",
          "height": 529
        },
        "id": "Egga5TuMBtBA",
        "outputId": "588ad5c2-8a09-41e4-b5a2-f8f2827c0aeb"
      },
      "execution_count": null,
      "outputs": [
        {
          "output_type": "error",
          "ename": "ValueError",
          "evalue": "ignored",
          "traceback": [
            "\u001b[0;31m---------------------------------------------------------------------------\u001b[0m",
            "\u001b[0;31mTypeError\u001b[0m                                 Traceback (most recent call last)",
            "\u001b[0;32m/usr/local/lib/python3.7/dist-packages/numpy/lib/shape_base.py\u001b[0m in \u001b[0;36msplit\u001b[0;34m(ary, indices_or_sections, axis)\u001b[0m\n\u001b[1;32m    866\u001b[0m     \u001b[0;32mtry\u001b[0m\u001b[0;34m:\u001b[0m\u001b[0;34m\u001b[0m\u001b[0;34m\u001b[0m\u001b[0m\n\u001b[0;32m--> 867\u001b[0;31m         \u001b[0mlen\u001b[0m\u001b[0;34m(\u001b[0m\u001b[0mindices_or_sections\u001b[0m\u001b[0;34m)\u001b[0m\u001b[0;34m\u001b[0m\u001b[0;34m\u001b[0m\u001b[0m\n\u001b[0m\u001b[1;32m    868\u001b[0m     \u001b[0;32mexcept\u001b[0m \u001b[0mTypeError\u001b[0m\u001b[0;34m:\u001b[0m\u001b[0;34m\u001b[0m\u001b[0;34m\u001b[0m\u001b[0m\n",
            "\u001b[0;31mTypeError\u001b[0m: object of type 'int' has no len()",
            "\nDuring handling of the above exception, another exception occurred:\n",
            "\u001b[0;31mValueError\u001b[0m                                Traceback (most recent call last)",
            "\u001b[0;32m<ipython-input-137-6a62d06336cc>\u001b[0m in \u001b[0;36m<module>\u001b[0;34m()\u001b[0m\n\u001b[0;32m----> 1\u001b[0;31m \u001b[0mnp\u001b[0m\u001b[0;34m.\u001b[0m\u001b[0mvsplit\u001b[0m\u001b[0;34m(\u001b[0m\u001b[0ma\u001b[0m\u001b[0;34m,\u001b[0m\u001b[0;36m3\u001b[0m\u001b[0;34m)\u001b[0m\u001b[0;34m\u001b[0m\u001b[0;34m\u001b[0m\u001b[0m\n\u001b[0m",
            "\u001b[0;32m<__array_function__ internals>\u001b[0m in \u001b[0;36mvsplit\u001b[0;34m(*args, **kwargs)\u001b[0m\n",
            "\u001b[0;32m/usr/local/lib/python3.7/dist-packages/numpy/lib/shape_base.py\u001b[0m in \u001b[0;36mvsplit\u001b[0;34m(ary, indices_or_sections)\u001b[0m\n\u001b[1;32m    989\u001b[0m     \u001b[0;32mif\u001b[0m \u001b[0m_nx\u001b[0m\u001b[0;34m.\u001b[0m\u001b[0mndim\u001b[0m\u001b[0;34m(\u001b[0m\u001b[0mary\u001b[0m\u001b[0;34m)\u001b[0m \u001b[0;34m<\u001b[0m \u001b[0;36m2\u001b[0m\u001b[0;34m:\u001b[0m\u001b[0;34m\u001b[0m\u001b[0;34m\u001b[0m\u001b[0m\n\u001b[1;32m    990\u001b[0m         \u001b[0;32mraise\u001b[0m \u001b[0mValueError\u001b[0m\u001b[0;34m(\u001b[0m\u001b[0;34m'vsplit only works on arrays of 2 or more dimensions'\u001b[0m\u001b[0;34m)\u001b[0m\u001b[0;34m\u001b[0m\u001b[0;34m\u001b[0m\u001b[0m\n\u001b[0;32m--> 991\u001b[0;31m     \u001b[0;32mreturn\u001b[0m \u001b[0msplit\u001b[0m\u001b[0;34m(\u001b[0m\u001b[0mary\u001b[0m\u001b[0;34m,\u001b[0m \u001b[0mindices_or_sections\u001b[0m\u001b[0;34m,\u001b[0m \u001b[0;36m0\u001b[0m\u001b[0;34m)\u001b[0m\u001b[0;34m\u001b[0m\u001b[0;34m\u001b[0m\u001b[0m\n\u001b[0m\u001b[1;32m    992\u001b[0m \u001b[0;34m\u001b[0m\u001b[0m\n\u001b[1;32m    993\u001b[0m \u001b[0;34m\u001b[0m\u001b[0m\n",
            "\u001b[0;32m<__array_function__ internals>\u001b[0m in \u001b[0;36msplit\u001b[0;34m(*args, **kwargs)\u001b[0m\n",
            "\u001b[0;32m/usr/local/lib/python3.7/dist-packages/numpy/lib/shape_base.py\u001b[0m in \u001b[0;36msplit\u001b[0;34m(ary, indices_or_sections, axis)\u001b[0m\n\u001b[1;32m    871\u001b[0m         \u001b[0;32mif\u001b[0m \u001b[0mN\u001b[0m \u001b[0;34m%\u001b[0m \u001b[0msections\u001b[0m\u001b[0;34m:\u001b[0m\u001b[0;34m\u001b[0m\u001b[0;34m\u001b[0m\u001b[0m\n\u001b[1;32m    872\u001b[0m             raise ValueError(\n\u001b[0;32m--> 873\u001b[0;31m                 'array split does not result in an equal division')\n\u001b[0m\u001b[1;32m    874\u001b[0m     \u001b[0;32mreturn\u001b[0m \u001b[0marray_split\u001b[0m\u001b[0;34m(\u001b[0m\u001b[0mary\u001b[0m\u001b[0;34m,\u001b[0m \u001b[0mindices_or_sections\u001b[0m\u001b[0;34m,\u001b[0m \u001b[0maxis\u001b[0m\u001b[0;34m)\u001b[0m\u001b[0;34m\u001b[0m\u001b[0;34m\u001b[0m\u001b[0m\n\u001b[1;32m    875\u001b[0m \u001b[0;34m\u001b[0m\u001b[0m\n",
            "\u001b[0;31mValueError\u001b[0m: array split does not result in an equal division"
          ]
        }
      ]
    },
    {
      "cell_type": "code",
      "source": [
        "np.vsplit(a,4)"
      ],
      "metadata": {
        "colab": {
          "base_uri": "https://localhost:8080/"
        },
        "id": "8gs2-kDpBY9y",
        "outputId": "f343eae0-d18c-4003-d579-da7dd6d2a246"
      },
      "execution_count": null,
      "outputs": [
        {
          "output_type": "execute_result",
          "data": {
            "text/plain": [
              "[array([[1, 2, 3, 4, 5, 6]]),\n",
              " array([[ 7,  8,  9, 10, 11, 12]]),\n",
              " array([[13, 14, 15, 16, 17, 18]]),\n",
              " array([[19, 20, 21, 22, 23, 24]])]"
            ]
          },
          "metadata": {},
          "execution_count": 138
        }
      ]
    },
    {
      "cell_type": "markdown",
      "source": [
        "# 형태변환"
      ],
      "metadata": {
        "id": "JdDz4PjsHCp7"
      }
    },
    {
      "cell_type": "markdown",
      "source": [
        "reshape"
      ],
      "metadata": {
        "id": "7cLfFAakCoyM"
      }
    },
    {
      "cell_type": "code",
      "source": [
        "a = np.arange(12)\n",
        "a"
      ],
      "metadata": {
        "id": "LT8gjrWZQjPc",
        "colab": {
          "base_uri": "https://localhost:8080/"
        },
        "outputId": "a0f58a38-7ab1-41d6-8a69-cd495834c11f"
      },
      "execution_count": null,
      "outputs": [
        {
          "output_type": "execute_result",
          "data": {
            "text/plain": [
              "array([ 0,  1,  2,  3,  4,  5,  6,  7,  8,  9, 10, 11])"
            ]
          },
          "metadata": {},
          "execution_count": 141
        }
      ]
    },
    {
      "cell_type": "code",
      "source": [
        "a.reshape(3,4)"
      ],
      "metadata": {
        "colab": {
          "base_uri": "https://localhost:8080/"
        },
        "id": "ilkuGkARCAxW",
        "outputId": "211e4213-f6c3-4793-d911-9e080832e7bd"
      },
      "execution_count": null,
      "outputs": [
        {
          "output_type": "execute_result",
          "data": {
            "text/plain": [
              "array([[ 0,  1,  2,  3],\n",
              "       [ 4,  5,  6,  7],\n",
              "       [ 8,  9, 10, 11]])"
            ]
          },
          "metadata": {},
          "execution_count": 142
        }
      ]
    },
    {
      "cell_type": "code",
      "source": [
        "a.reshape(2,-1)"
      ],
      "metadata": {
        "colab": {
          "base_uri": "https://localhost:8080/"
        },
        "id": "7O7osOFICERb",
        "outputId": "14eacdfa-90b2-417e-a336-ac79b5be99a9"
      },
      "execution_count": null,
      "outputs": [
        {
          "output_type": "execute_result",
          "data": {
            "text/plain": [
              "array([[ 0,  1,  2,  3,  4,  5],\n",
              "       [ 6,  7,  8,  9, 10, 11]])"
            ]
          },
          "metadata": {},
          "execution_count": 143
        }
      ]
    },
    {
      "cell_type": "code",
      "source": [
        "a= np.arange(20).reshape(5,4)\n",
        "a"
      ],
      "metadata": {
        "colab": {
          "base_uri": "https://localhost:8080/"
        },
        "id": "SWJ2zJEKCMjD",
        "outputId": "200cec7c-55c4-4d66-aab5-bddcc20d53be"
      },
      "execution_count": null,
      "outputs": [
        {
          "output_type": "execute_result",
          "data": {
            "text/plain": [
              "array([[ 0,  1,  2,  3],\n",
              "       [ 4,  5,  6,  7],\n",
              "       [ 8,  9, 10, 11],\n",
              "       [12, 13, 14, 15],\n",
              "       [16, 17, 18, 19]])"
            ]
          },
          "metadata": {},
          "execution_count": 144
        }
      ]
    },
    {
      "cell_type": "markdown",
      "source": [
        "전치ㅣ"
      ],
      "metadata": {
        "id": "L-Mfy1q6Cr9C"
      }
    },
    {
      "cell_type": "code",
      "source": [
        "#전치 T 행과열이 바뀜, a.T\n",
        "a.transpose()"
      ],
      "metadata": {
        "colab": {
          "base_uri": "https://localhost:8080/"
        },
        "id": "adsnmM-lCTIg",
        "outputId": "619f973c-d91a-4159-cba7-08ee127703f0"
      },
      "execution_count": null,
      "outputs": [
        {
          "output_type": "execute_result",
          "data": {
            "text/plain": [
              "array([[ 0,  4,  8, 12, 16],\n",
              "       [ 1,  5,  9, 13, 17],\n",
              "       [ 2,  6, 10, 14, 18],\n",
              "       [ 3,  7, 11, 15, 19]])"
            ]
          },
          "metadata": {},
          "execution_count": 145
        }
      ]
    },
    {
      "cell_type": "code",
      "source": [
        "a.T"
      ],
      "metadata": {
        "colab": {
          "base_uri": "https://localhost:8080/"
        },
        "id": "vIg-Ld2JB8sG",
        "outputId": "21ebfdcf-1315-42a7-9ad8-7b7b23091058"
      },
      "execution_count": null,
      "outputs": [
        {
          "output_type": "execute_result",
          "data": {
            "text/plain": [
              "array([[ 0,  4,  8, 12, 16],\n",
              "       [ 1,  5,  9, 13, 17],\n",
              "       [ 2,  6, 10, 14, 18],\n",
              "       [ 3,  7, 11, 15, 19]])"
            ]
          },
          "metadata": {},
          "execution_count": 146
        }
      ]
    },
    {
      "cell_type": "markdown",
      "source": [
        "평탄화 1차원으로 바꿈"
      ],
      "metadata": {
        "id": "2Dc56F7UC0qA"
      }
    },
    {
      "cell_type": "code",
      "source": [
        "f = a.flatten() #복사\n",
        "f"
      ],
      "metadata": {
        "colab": {
          "base_uri": "https://localhost:8080/"
        },
        "id": "Nzk9KcGWCwtL",
        "outputId": "5c9f394e-972d-4b74-8bea-7876a276bf4e"
      },
      "execution_count": null,
      "outputs": [
        {
          "output_type": "execute_result",
          "data": {
            "text/plain": [
              "array([ 0,  1,  2,  3,  4,  5,  6,  7,  8,  9, 10, 11, 12, 13, 14, 15, 16,\n",
              "       17, 18, 19])"
            ]
          },
          "metadata": {},
          "execution_count": 147
        }
      ]
    },
    {
      "cell_type": "code",
      "source": [
        "a[0]= 30\n",
        "a"
      ],
      "metadata": {
        "colab": {
          "base_uri": "https://localhost:8080/"
        },
        "id": "ZhSTZD-2C9fB",
        "outputId": "935652ae-efa3-4644-892f-ffb40dd18569"
      },
      "execution_count": null,
      "outputs": [
        {
          "output_type": "execute_result",
          "data": {
            "text/plain": [
              "array([[30, 30, 30, 30],\n",
              "       [ 4,  5,  6,  7],\n",
              "       [ 8,  9, 10, 11],\n",
              "       [12, 13, 14, 15],\n",
              "       [16, 17, 18, 19]])"
            ]
          },
          "metadata": {},
          "execution_count": 148
        }
      ]
    },
    {
      "cell_type": "code",
      "source": [
        "f"
      ],
      "metadata": {
        "colab": {
          "base_uri": "https://localhost:8080/"
        },
        "id": "6NPkbTsHDGCN",
        "outputId": "10e926ce-5107-4b6d-f435-f1455b952f1f"
      },
      "execution_count": null,
      "outputs": [
        {
          "output_type": "execute_result",
          "data": {
            "text/plain": [
              "array([ 0,  1,  2,  3,  4,  5,  6,  7,  8,  9, 10, 11, 12, 13, 14, 15, 16,\n",
              "       17, 18, 19])"
            ]
          },
          "metadata": {},
          "execution_count": 149
        }
      ]
    },
    {
      "cell_type": "code",
      "source": [
        "r= a.ravel() # 원래 배열 수정\n",
        "r"
      ],
      "metadata": {
        "colab": {
          "base_uri": "https://localhost:8080/"
        },
        "id": "5yK3zSiHDLhf",
        "outputId": "7976b8fe-f41c-4e2a-81f1-71803c25f0a5"
      },
      "execution_count": null,
      "outputs": [
        {
          "output_type": "execute_result",
          "data": {
            "text/plain": [
              "array([30, 30, 30, 30,  4,  5,  6,  7,  8,  9, 10, 11, 12, 13, 14, 15, 16,\n",
              "       17, 18, 19])"
            ]
          },
          "metadata": {},
          "execution_count": 150
        }
      ]
    },
    {
      "cell_type": "code",
      "source": [
        "a[1] = 20\n",
        "a\n"
      ],
      "metadata": {
        "colab": {
          "base_uri": "https://localhost:8080/"
        },
        "id": "yBBVDUAZDXbW",
        "outputId": "61a367c3-4c4f-4838-853a-4981d562ac76"
      },
      "execution_count": null,
      "outputs": [
        {
          "output_type": "execute_result",
          "data": {
            "text/plain": [
              "array([[30, 30, 30, 30],\n",
              "       [20, 20, 20, 20],\n",
              "       [ 8,  9, 10, 11],\n",
              "       [12, 13, 14, 15],\n",
              "       [16, 17, 18, 19]])"
            ]
          },
          "metadata": {},
          "execution_count": 151
        }
      ]
    },
    {
      "cell_type": "code",
      "source": [
        "r"
      ],
      "metadata": {
        "colab": {
          "base_uri": "https://localhost:8080/"
        },
        "id": "6nBUY8H2DerF",
        "outputId": "ed141f9c-295a-4952-b2f6-1fae36cf6384"
      },
      "execution_count": null,
      "outputs": [
        {
          "output_type": "execute_result",
          "data": {
            "text/plain": [
              "array([30, 30, 30, 30, 20, 20, 20, 20,  8,  9, 10, 11, 12, 13, 14, 15, 16,\n",
              "       17, 18, 19])"
            ]
          },
          "metadata": {},
          "execution_count": 152
        }
      ]
    },
    {
      "cell_type": "markdown",
      "source": [
        "# 실습III"
      ],
      "metadata": {
        "id": "M-_r90AXIpV0"
      }
    },
    {
      "cell_type": "markdown",
      "source": [
        "1. arange() 함수를 사용하여 1에서 12까지의 원소를 가지는 1차원 배열 a1을 생성하여라. 그리고 이 a1 배열을 reshape() 메소드를 사용하여 2행 6열의 행렬로 재구성하세요.\n",
        "\n",
        "```\n",
        "array([[ 1,  2,  3,  4,  5,  6],\n",
        "       [ 7,  8,  9, 10, 11, 12]])\n",
        "```\n",
        "\n"
      ],
      "metadata": {
        "id": "Mju29zjkIuQ2"
      }
    },
    {
      "cell_type": "code",
      "source": [
        "a1 = np.arange(1, 13).reshape(2,6)\n",
        "a1"
      ],
      "metadata": {
        "id": "ii9RniSHQlNG",
        "colab": {
          "base_uri": "https://localhost:8080/"
        },
        "outputId": "66334c2d-9046-4dfd-bb6d-e44a4f89e052"
      },
      "execution_count": null,
      "outputs": [
        {
          "output_type": "execute_result",
          "data": {
            "text/plain": [
              "array([[ 1,  2,  3,  4,  5,  6],\n",
              "       [ 7,  8,  9, 10, 11, 12]])"
            ]
          },
          "metadata": {},
          "execution_count": 153
        }
      ]
    },
    {
      "cell_type": "markdown",
      "source": [
        "2. arange() 함수를 사용하여 1에서 30까지의 원소를 가지는 1차원\n",
        "배열 a2을 생성하여라. 그리고 이 a2 배열을 reshape() 메소드를 사용하여 3행 10열의 행렬로 재구성하세요\n",
        "\n",
        "\n",
        "```\n",
        "array([[ 1,  2,  3,  4,  5,  6,  7,  8,  9, 10],\n",
        "       [11, 12, 13, 14, 15, 16, 17, 18, 19, 20],\n",
        "       [21, 22, 23, 24, 25, 26, 27, 28, 29, 30]])\n",
        "```\n",
        "\n"
      ],
      "metadata": {
        "id": "DSPiA1dpJTe3"
      }
    },
    {
      "cell_type": "code",
      "source": [
        "a2 = np.arange(1, 31).reshape(3, 10)\n",
        "a2"
      ],
      "metadata": {
        "colab": {
          "base_uri": "https://localhost:8080/"
        },
        "id": "hSCnba7aFvZo",
        "outputId": "e846cf68-91d9-4df6-d706-59cf0ebff645"
      },
      "execution_count": null,
      "outputs": [
        {
          "output_type": "execute_result",
          "data": {
            "text/plain": [
              "array([[ 1,  2,  3,  4,  5,  6,  7,  8,  9, 10],\n",
              "       [11, 12, 13, 14, 15, 16, 17, 18, 19, 20],\n",
              "       [21, 22, 23, 24, 25, 26, 27, 28, 29, 30]])"
            ]
          },
          "metadata": {},
          "execution_count": 154
        }
      ]
    },
    {
      "cell_type": "markdown",
      "source": [
        "3. 문제 2에서 생성한 a2 배열을 reshape() 메소드를 사용하여 6행 5열의 행렬로 재구성한 행렬 a3을 생성하세요.\n",
        "\n",
        "\n",
        "```\n",
        "array([[ 1,  2,  3,  4,  5],\n",
        "       [ 6,  7,  8,  9, 10],\n",
        "       [11, 12, 13, 14, 15],\n",
        "       [16, 17, 18, 19, 20],\n",
        "       [21, 22, 23, 24, 25],\n",
        "       [26, 27, 28, 29, 30]])\n",
        "```\n",
        "\n"
      ],
      "metadata": {
        "id": "CzsfPFySJlBR"
      }
    },
    {
      "cell_type": "code",
      "source": [
        "a3 = a2.reshape(6,5)\n",
        "a3"
      ],
      "metadata": {
        "id": "YQTIXtVcQnw9",
        "colab": {
          "base_uri": "https://localhost:8080/"
        },
        "outputId": "308b9101-e576-45e1-bb99-8a99f4e6d1d1"
      },
      "execution_count": null,
      "outputs": [
        {
          "output_type": "execute_result",
          "data": {
            "text/plain": [
              "array([[ 1,  2,  3,  4,  5],\n",
              "       [ 6,  7,  8,  9, 10],\n",
              "       [11, 12, 13, 14, 15],\n",
              "       [16, 17, 18, 19, 20],\n",
              "       [21, 22, 23, 24, 25],\n",
              "       [26, 27, 28, 29, 30]])"
            ]
          },
          "metadata": {},
          "execution_count": 155
        }
      ]
    },
    {
      "cell_type": "markdown",
      "source": [
        "4. 문제 3에서 생성한 a3 배열을 transpose() 함수를 사용하여 다음과 같은 전치 행렬을 생성하여라"
      ],
      "metadata": {
        "id": "EISk030RJ_GW"
      }
    },
    {
      "cell_type": "code",
      "source": [
        "a3.T"
      ],
      "metadata": {
        "id": "vnGmtp8SQpQE",
        "colab": {
          "base_uri": "https://localhost:8080/"
        },
        "outputId": "c61bd2c0-f46f-4cf6-c7b0-10bae94aa73a"
      },
      "execution_count": null,
      "outputs": [
        {
          "output_type": "execute_result",
          "data": {
            "text/plain": [
              "array([[ 1,  6, 11, 16, 21, 26],\n",
              "       [ 2,  7, 12, 17, 22, 27],\n",
              "       [ 3,  8, 13, 18, 23, 28],\n",
              "       [ 4,  9, 14, 19, 24, 29],\n",
              "       [ 5, 10, 15, 20, 25, 30]])"
            ]
          },
          "metadata": {},
          "execution_count": 156
        }
      ]
    },
    {
      "cell_type": "markdown",
      "source": [
        "# 배열 비교"
      ],
      "metadata": {
        "id": "n6tAtvh0KPPY"
      }
    },
    {
      "cell_type": "code",
      "source": [
        "a1 = np.array([1,2,3,4])\n",
        "a2 = np.array([3,2,5,4])\n",
        "\n",
        "a1 == a2"
      ],
      "metadata": {
        "id": "xxJDZPmnQrRL",
        "colab": {
          "base_uri": "https://localhost:8080/"
        },
        "outputId": "78ed2685-7b57-430e-a4c1-37ecfeb4c374"
      },
      "execution_count": null,
      "outputs": [
        {
          "output_type": "execute_result",
          "data": {
            "text/plain": [
              "array([False,  True, False,  True])"
            ]
          },
          "metadata": {},
          "execution_count": 157
        }
      ]
    },
    {
      "cell_type": "code",
      "source": [
        "a1> a2"
      ],
      "metadata": {
        "colab": {
          "base_uri": "https://localhost:8080/"
        },
        "id": "c_yC76NWGlRO",
        "outputId": "65de9684-84f1-4093-d36a-21613988d7cd"
      },
      "execution_count": null,
      "outputs": [
        {
          "output_type": "execute_result",
          "data": {
            "text/plain": [
              "array([False, False, False, False])"
            ]
          },
          "metadata": {},
          "execution_count": 158
        }
      ]
    },
    {
      "cell_type": "code",
      "source": [
        "np.array_equal(a1, a2)"
      ],
      "metadata": {
        "colab": {
          "base_uri": "https://localhost:8080/"
        },
        "id": "nipn80X3GnFn",
        "outputId": "2435a551-6ba9-48ad-dbf6-c43bccda034d"
      },
      "execution_count": null,
      "outputs": [
        {
          "output_type": "execute_result",
          "data": {
            "text/plain": [
              "False"
            ]
          },
          "metadata": {},
          "execution_count": 159
        }
      ]
    },
    {
      "cell_type": "code",
      "source": [
        "a3 = np.array([1,2,3,4])\n",
        "np.array_equal(a1, a3)"
      ],
      "metadata": {
        "colab": {
          "base_uri": "https://localhost:8080/"
        },
        "id": "syGCf4ptGyKG",
        "outputId": "47a7469a-1945-49ea-bd7c-80a2bccc6616"
      },
      "execution_count": null,
      "outputs": [
        {
          "output_type": "execute_result",
          "data": {
            "text/plain": [
              "True"
            ]
          },
          "metadata": {},
          "execution_count": 160
        }
      ]
    },
    {
      "cell_type": "markdown",
      "source": [
        "# 배열 정렬"
      ],
      "metadata": {
        "id": "3DuJJxPmLLt1"
      }
    },
    {
      "cell_type": "code",
      "source": [
        "a = np.array([4,2,6,5,1,3,0])\n",
        "a"
      ],
      "metadata": {
        "id": "Y0DFqaRlQtLe",
        "colab": {
          "base_uri": "https://localhost:8080/"
        },
        "outputId": "0eddedb4-cc22-4e27-9c98-0e955d2e6cd6"
      },
      "execution_count": null,
      "outputs": [
        {
          "output_type": "execute_result",
          "data": {
            "text/plain": [
              "array([4, 2, 6, 5, 1, 3, 0])"
            ]
          },
          "metadata": {},
          "execution_count": 161
        }
      ]
    },
    {
      "cell_type": "code",
      "source": [
        "np.sort(a) #원래 배열을 수정하지 않고 view"
      ],
      "metadata": {
        "colab": {
          "base_uri": "https://localhost:8080/"
        },
        "id": "u4Z3gapgHEb8",
        "outputId": "a42f7232-f9ad-481d-9ecb-f846072c22fc"
      },
      "execution_count": null,
      "outputs": [
        {
          "output_type": "execute_result",
          "data": {
            "text/plain": [
              "array([0, 1, 2, 3, 4, 5, 6])"
            ]
          },
          "metadata": {},
          "execution_count": 162
        }
      ]
    },
    {
      "cell_type": "code",
      "source": [
        "a\n"
      ],
      "metadata": {
        "colab": {
          "base_uri": "https://localhost:8080/"
        },
        "id": "OjhMDJ_MHH3Q",
        "outputId": "d1858c6d-fe00-43b9-b49b-2c37d874ba12"
      },
      "execution_count": null,
      "outputs": [
        {
          "output_type": "execute_result",
          "data": {
            "text/plain": [
              "array([4, 2, 6, 5, 1, 3, 0])"
            ]
          },
          "metadata": {},
          "execution_count": 163
        }
      ]
    },
    {
      "cell_type": "code",
      "source": [
        "a.sort() #배열자체가 정렬됨\n",
        "a"
      ],
      "metadata": {
        "colab": {
          "base_uri": "https://localhost:8080/"
        },
        "id": "FT1tiSgyHJ4-",
        "outputId": "75866c66-4978-4401-b872-87ea1a517842"
      },
      "execution_count": null,
      "outputs": [
        {
          "output_type": "execute_result",
          "data": {
            "text/plain": [
              "array([0, 1, 2, 3, 4, 5, 6])"
            ]
          },
          "metadata": {},
          "execution_count": 165
        }
      ]
    },
    {
      "cell_type": "code",
      "source": [
        "np.sort(a)[::-1]"
      ],
      "metadata": {
        "colab": {
          "base_uri": "https://localhost:8080/"
        },
        "id": "nwcqoT8vHVNX",
        "outputId": "d39bf070-07fd-4857-de82-a19848542325"
      },
      "execution_count": null,
      "outputs": [
        {
          "output_type": "execute_result",
          "data": {
            "text/plain": [
              "array([6, 5, 4, 3, 2, 1, 0])"
            ]
          },
          "metadata": {},
          "execution_count": 166
        }
      ]
    },
    {
      "cell_type": "markdown",
      "source": [
        "축을 지정하여 정렬"
      ],
      "metadata": {
        "id": "hSy5G3cqJRQE"
      }
    },
    {
      "cell_type": "code",
      "source": [
        "a = np.array([[2,1,6],\n",
        "              [0,7,4],\n",
        "              [5,3,2]])\n",
        "a\n"
      ],
      "metadata": {
        "id": "AlK6z4RxQuyp",
        "colab": {
          "base_uri": "https://localhost:8080/"
        },
        "outputId": "626db4ed-6997-436a-ae24-a716a9a60662"
      },
      "execution_count": null,
      "outputs": [
        {
          "output_type": "execute_result",
          "data": {
            "text/plain": [
              "array([[2, 1, 6],\n",
              "       [0, 7, 4],\n",
              "       [5, 3, 2]])"
            ]
          },
          "metadata": {},
          "execution_count": 168
        }
      ]
    },
    {
      "cell_type": "code",
      "source": [
        "a.shape"
      ],
      "metadata": {
        "colab": {
          "base_uri": "https://localhost:8080/"
        },
        "id": "MZTh9RdFH834",
        "outputId": "5b0e94be-4eb3-4322-b170-b519c616aba1"
      },
      "execution_count": null,
      "outputs": [
        {
          "output_type": "execute_result",
          "data": {
            "text/plain": [
              "(3, 3)"
            ]
          },
          "metadata": {},
          "execution_count": 169
        }
      ]
    },
    {
      "cell_type": "code",
      "source": [
        "np.sort(a, axis=0)"
      ],
      "metadata": {
        "colab": {
          "base_uri": "https://localhost:8080/"
        },
        "id": "2CQYyOE5IBbj",
        "outputId": "d4ad23e9-2ab3-4f6a-bb4d-d218ed2f3788"
      },
      "execution_count": null,
      "outputs": [
        {
          "output_type": "execute_result",
          "data": {
            "text/plain": [
              "array([[0, 1, 2],\n",
              "       [2, 3, 4],\n",
              "       [5, 7, 6]])"
            ]
          },
          "metadata": {},
          "execution_count": 170
        }
      ]
    },
    {
      "cell_type": "code",
      "source": [
        "np.sort(a, axis=1)"
      ],
      "metadata": {
        "colab": {
          "base_uri": "https://localhost:8080/"
        },
        "id": "sRWowkYIINB7",
        "outputId": "e6c41d04-4ada-4f50-d309-6da20e70ae52"
      },
      "execution_count": null,
      "outputs": [
        {
          "output_type": "execute_result",
          "data": {
            "text/plain": [
              "array([[1, 2, 6],\n",
              "       [0, 4, 7],\n",
              "       [2, 3, 5]])"
            ]
          },
          "metadata": {},
          "execution_count": 171
        }
      ]
    },
    {
      "cell_type": "markdown",
      "source": [
        "# 배열의 축\n",
        "인덱스를 기술하는 순서 축에 따라 계산"
      ],
      "metadata": {
        "id": "l7teCAZ6NlpD"
      }
    },
    {
      "cell_type": "code",
      "source": [
        "a = np.arange(0,6).reshape(3,2)\n",
        "a"
      ],
      "metadata": {
        "id": "V4A4tUNIQxFr",
        "colab": {
          "base_uri": "https://localhost:8080/"
        },
        "outputId": "514ea34c-3529-4083-b9ee-d94c52900a9d"
      },
      "execution_count": null,
      "outputs": [
        {
          "output_type": "execute_result",
          "data": {
            "text/plain": [
              "array([[0, 1],\n",
              "       [2, 3],\n",
              "       [4, 5]])"
            ]
          },
          "metadata": {},
          "execution_count": 3
        }
      ]
    },
    {
      "cell_type": "code",
      "source": [
        "a.sum()"
      ],
      "metadata": {
        "colab": {
          "base_uri": "https://localhost:8080/"
        },
        "id": "ISczWu9vIg15",
        "outputId": "8a7ca32a-4e43-4244-c224-920862438887"
      },
      "execution_count": null,
      "outputs": [
        {
          "output_type": "execute_result",
          "data": {
            "text/plain": [
              "15"
            ]
          },
          "metadata": {},
          "execution_count": 5
        }
      ]
    },
    {
      "cell_type": "code",
      "source": [
        "a.sum(axis=0) # 열끼리 더함"
      ],
      "metadata": {
        "colab": {
          "base_uri": "https://localhost:8080/"
        },
        "id": "cMC2gwdvIrvf",
        "outputId": "f6b10b51-5d4a-4e06-e0da-6436ad1c3ede"
      },
      "execution_count": null,
      "outputs": [
        {
          "output_type": "execute_result",
          "data": {
            "text/plain": [
              "array([6, 9])"
            ]
          },
          "metadata": {},
          "execution_count": 4
        }
      ]
    },
    {
      "cell_type": "code",
      "source": [
        "a.sum(axis=1)  # 행끼리 더함"
      ],
      "metadata": {
        "colab": {
          "base_uri": "https://localhost:8080/"
        },
        "id": "wJrYDbHzIyzb",
        "outputId": "70147551-160d-46bc-bafe-aceb3596bc40"
      },
      "execution_count": null,
      "outputs": [
        {
          "output_type": "execute_result",
          "data": {
            "text/plain": [
              "array([1, 5, 9])"
            ]
          },
          "metadata": {},
          "execution_count": 6
        }
      ]
    },
    {
      "cell_type": "code",
      "source": [
        "print('min',a.min())\n",
        "print('max',a.max())"
      ],
      "metadata": {
        "colab": {
          "base_uri": "https://localhost:8080/"
        },
        "id": "PxvgDNbEI4mg",
        "outputId": "3989a075-09f6-46ca-9b09-3e4b4294f916"
      },
      "execution_count": null,
      "outputs": [
        {
          "output_type": "stream",
          "name": "stdout",
          "text": [
            "min 0\n",
            "max 5\n"
          ]
        }
      ]
    },
    {
      "cell_type": "code",
      "source": [
        "print('axis =0, min',a.min(axis =0))\n",
        "print('axis =0, max',a.max(axis =0))"
      ],
      "metadata": {
        "colab": {
          "base_uri": "https://localhost:8080/"
        },
        "id": "X7dsGDMgJDlt",
        "outputId": "925c9919-dd46-402d-bfda-42729f0271c9"
      },
      "execution_count": null,
      "outputs": [
        {
          "output_type": "stream",
          "name": "stdout",
          "text": [
            "axis =0, min [0 1]\n",
            "axis =0, max [4 5]\n"
          ]
        }
      ]
    },
    {
      "cell_type": "markdown",
      "source": [
        "# 새로운 요소의 삽입"
      ],
      "metadata": {
        "id": "e5PYTcogJTW9"
      }
    },
    {
      "cell_type": "code",
      "source": [
        "a = np.array([1,3,4])\n",
        "np.insert(a, 1, 2)"
      ],
      "metadata": {
        "colab": {
          "base_uri": "https://localhost:8080/"
        },
        "id": "Sh7hRER-Jc1N",
        "outputId": "0055047c-7eba-4f08-8908-eaa1973c4abb"
      },
      "execution_count": null,
      "outputs": [
        {
          "output_type": "execute_result",
          "data": {
            "text/plain": [
              "array([1, 2, 3, 4])"
            ]
          },
          "metadata": {},
          "execution_count": 179
        }
      ]
    },
    {
      "cell_type": "code",
      "source": [
        "a = np.array([[1,1],[2,2],[3,3]])\n",
        "a"
      ],
      "metadata": {
        "colab": {
          "base_uri": "https://localhost:8080/"
        },
        "id": "Y4IotqcuJnxf",
        "outputId": "a81d065f-2bb7-4cc2-e161-ac1bbf556844"
      },
      "execution_count": null,
      "outputs": [
        {
          "output_type": "execute_result",
          "data": {
            "text/plain": [
              "array([[1, 1],\n",
              "       [2, 2],\n",
              "       [3, 3]])"
            ]
          },
          "metadata": {},
          "execution_count": 180
        }
      ]
    },
    {
      "cell_type": "code",
      "source": [
        "np.insert(a, 1, 4, axis =0 )"
      ],
      "metadata": {
        "colab": {
          "base_uri": "https://localhost:8080/"
        },
        "id": "X64V2tDmJv3P",
        "outputId": "51901f63-69e9-40f7-89bb-384b93e5fc53"
      },
      "execution_count": null,
      "outputs": [
        {
          "output_type": "execute_result",
          "data": {
            "text/plain": [
              "array([[1, 1],\n",
              "       [4, 4],\n",
              "       [2, 2],\n",
              "       [3, 3]])"
            ]
          },
          "metadata": {},
          "execution_count": 181
        }
      ]
    },
    {
      "cell_type": "code",
      "source": [
        "np.insert(a, 1, 4, axis =1 )"
      ],
      "metadata": {
        "colab": {
          "base_uri": "https://localhost:8080/"
        },
        "id": "BKYTeJq3Jn7R",
        "outputId": "766c47ab-03a0-4598-d486-29821e3b8f2d"
      },
      "execution_count": null,
      "outputs": [
        {
          "output_type": "execute_result",
          "data": {
            "text/plain": [
              "array([[1, 4, 1],\n",
              "       [2, 4, 2],\n",
              "       [3, 4, 3]])"
            ]
          },
          "metadata": {},
          "execution_count": 182
        }
      ]
    },
    {
      "cell_type": "markdown",
      "source": [
        "# 실습IV"
      ],
      "metadata": {
        "id": "U894TWkXPA7o"
      }
    },
    {
      "cell_type": "markdown",
      "source": [
        "1. 1에서 100까지의 랜덤 정수 15개를 np.random.randint()를 통해서 생성하여라. 이렇게 생성한 정수 값들을 (3, 5)의 shape을 가지는 행렬 a에 저장하도록 하여 출력하세요."
      ],
      "metadata": {
        "id": "34Ny5Sy4PJGd"
      }
    },
    {
      "cell_type": "code",
      "source": [
        "a = np.random.randint(1, 101, size=15).reshape(3,5)\n",
        "a"
      ],
      "metadata": {
        "id": "m8KQVEOuQytB",
        "colab": {
          "base_uri": "https://localhost:8080/"
        },
        "outputId": "80b31b6d-381f-43aa-e6c2-200b4ec9d08f"
      },
      "execution_count": null,
      "outputs": [
        {
          "output_type": "execute_result",
          "data": {
            "text/plain": [
              "array([[26, 86,  2, 11, 39],\n",
              "       [ 1, 58, 43, 81, 40],\n",
              "       [35, 37, 59, 50, 88]])"
            ]
          },
          "metadata": {},
          "execution_count": 183
        }
      ]
    },
    {
      "cell_type": "markdown",
      "source": [
        "2. 문제 1에서 생성한 a 행렬에 대해 열방향의 최댓값, 최솟값, 평균을 각각 다음과 같이 출력하세요."
      ],
      "metadata": {
        "id": "gWuAM2WpPiGK"
      }
    },
    {
      "cell_type": "code",
      "source": [
        "print('a 열방향 최댓값: ', a.max(axis=0))\n",
        "print('a 열방향 최소값: ', a.min(axis=0))\n",
        "print('a 열방향 평균: ', a.mean(axis=0))"
      ],
      "metadata": {
        "id": "LFgMqH20Qz98",
        "colab": {
          "base_uri": "https://localhost:8080/"
        },
        "outputId": "7fd5a868-5981-4049-c744-cb64c13d9330"
      },
      "execution_count": null,
      "outputs": [
        {
          "output_type": "stream",
          "name": "stdout",
          "text": [
            "a 열방향 최댓값:  [35 86 59 81 88]\n",
            "a 열방향 최소값:  [ 1 37  2 11 39]\n",
            "a 열방향 평균:  [20.66666667 60.33333333 34.66666667 47.33333333 55.66666667]\n"
          ]
        }
      ]
    },
    {
      "cell_type": "markdown",
      "source": [
        "3. 문제 1에서 생성한 a 행렬에 대해 행방향의 최댓값, 최솟값, 평균을 각각 다음과 같이 출력하세요."
      ],
      "metadata": {
        "id": "wI-R7V0AP53E"
      }
    },
    {
      "cell_type": "code",
      "source": [
        "print('a 열방향 최댓값: ', a.max(axis=1))\n",
        "print('a 열방향 최소값: ', a.min(axis=1))\n",
        "print('a 열방향 평균: ', a.mean(axis=1))"
      ],
      "metadata": {
        "id": "lPTVWIXTQ1PP",
        "colab": {
          "base_uri": "https://localhost:8080/"
        },
        "outputId": "071708c2-0ca7-4c93-9147-9755d5fa7601"
      },
      "execution_count": null,
      "outputs": [
        {
          "output_type": "stream",
          "name": "stdout",
          "text": [
            "a 열방향 최댓값:  [86 81 88]\n",
            "a 열방향 최소값:  [ 2  1 35]\n",
            "a 열방향 평균:  [32.8 44.6 53.8]\n"
          ]
        }
      ]
    },
    {
      "cell_type": "markdown",
      "source": [
        "# 배열의 인덱싱과 슬라이싱"
      ],
      "metadata": {
        "id": "wqTeBMAiQS_G"
      }
    },
    {
      "cell_type": "markdown",
      "source": [
        "## 1차원 배열의 인덱싱과 슬라이싱"
      ],
      "metadata": {
        "id": "6mGtSBOEQhOq"
      }
    },
    {
      "cell_type": "code",
      "source": [
        "a = np.array([1,2,3])\n",
        "print(a[0], a[1], a[2])"
      ],
      "metadata": {
        "id": "FMNW7wy3Q3ej",
        "colab": {
          "base_uri": "https://localhost:8080/"
        },
        "outputId": "a8e2f48d-e314-46d2-c54d-575620edbae1"
      },
      "execution_count": null,
      "outputs": [
        {
          "output_type": "stream",
          "name": "stdout",
          "text": [
            "1 2 3\n"
          ]
        }
      ]
    },
    {
      "cell_type": "code",
      "source": [
        "print(a[-1], a[-2], a[-3])"
      ],
      "metadata": {
        "colab": {
          "base_uri": "https://localhost:8080/"
        },
        "id": "J4_t4DkiO4g-",
        "outputId": "969a8a50-5864-46d9-d7a4-7e9c17603c8a"
      },
      "execution_count": null,
      "outputs": [
        {
          "output_type": "stream",
          "name": "stdout",
          "text": [
            "3 2 1\n"
          ]
        }
      ]
    },
    {
      "cell_type": "code",
      "source": [
        "print(a[np.array([0,1])]) #a[0,1]\n",
        "print(a[np.array([0,2])]) #a[0,3]\n",
        "print(a[np.array([1,1,1])]) #a[1,1,1]"
      ],
      "metadata": {
        "colab": {
          "base_uri": "https://localhost:8080/"
        },
        "id": "SyddC3lWPDM_",
        "outputId": "1bb34b9c-2729-49e8-c92a-934360f1c4df"
      },
      "execution_count": null,
      "outputs": [
        {
          "output_type": "stream",
          "name": "stdout",
          "text": [
            "[1 2]\n",
            "[1 3]\n",
            "[2 2 2]\n"
          ]
        }
      ]
    },
    {
      "cell_type": "code",
      "source": [
        "a = np.array([10, 20, 30, 40, 50, 60, 70, 80])\n",
        "a[1:5]"
      ],
      "metadata": {
        "colab": {
          "base_uri": "https://localhost:8080/"
        },
        "id": "0kL_ZbnxPnlr",
        "outputId": "8025022f-789f-47db-d632-a52102bc2411"
      },
      "execution_count": null,
      "outputs": [
        {
          "output_type": "execute_result",
          "data": {
            "text/plain": [
              "array([20, 30, 40, 50])"
            ]
          },
          "metadata": {},
          "execution_count": 191
        }
      ]
    },
    {
      "cell_type": "code",
      "source": [
        "a[1:]"
      ],
      "metadata": {
        "colab": {
          "base_uri": "https://localhost:8080/"
        },
        "id": "xXyDa2S1Px5B",
        "outputId": "6d8af7bb-065a-4246-da8f-e0b9a039e934"
      },
      "execution_count": null,
      "outputs": [
        {
          "output_type": "execute_result",
          "data": {
            "text/plain": [
              "array([20, 30, 40, 50, 60, 70, 80])"
            ]
          },
          "metadata": {},
          "execution_count": 192
        }
      ]
    },
    {
      "cell_type": "code",
      "source": [
        "a[:]"
      ],
      "metadata": {
        "colab": {
          "base_uri": "https://localhost:8080/"
        },
        "id": "5PL-ZQmoP3jp",
        "outputId": "e68cfa9a-a4bf-4af2-af8e-67e577fb79e4"
      },
      "execution_count": null,
      "outputs": [
        {
          "output_type": "execute_result",
          "data": {
            "text/plain": [
              "array([10, 20, 30, 40, 50, 60, 70, 80])"
            ]
          },
          "metadata": {},
          "execution_count": 193
        }
      ]
    },
    {
      "cell_type": "code",
      "source": [
        "a[::2]"
      ],
      "metadata": {
        "colab": {
          "base_uri": "https://localhost:8080/"
        },
        "id": "qlucE-cxP3tW",
        "outputId": "f7de8fdc-e2f5-4f56-aa9f-bf0d4a64dc6c"
      },
      "execution_count": null,
      "outputs": [
        {
          "output_type": "execute_result",
          "data": {
            "text/plain": [
              "array([10, 30, 50, 70])"
            ]
          },
          "metadata": {},
          "execution_count": 194
        }
      ]
    },
    {
      "cell_type": "markdown",
      "source": [
        "## 다차원 배열의 인덱싱과 슬라이싱"
      ],
      "metadata": {
        "id": "oyhmCW_yWdoB"
      }
    },
    {
      "cell_type": "code",
      "source": [
        "a = np.arange(0,6).reshape(3,2)\n",
        "a"
      ],
      "metadata": {
        "id": "EMjz35tqQ6TN",
        "colab": {
          "base_uri": "https://localhost:8080/"
        },
        "outputId": "4ceb1cc8-eb25-47d7-d11a-0af805b59901"
      },
      "execution_count": null,
      "outputs": [
        {
          "output_type": "execute_result",
          "data": {
            "text/plain": [
              "array([[0, 1],\n",
              "       [2, 3],\n",
              "       [4, 5]])"
            ]
          },
          "metadata": {},
          "execution_count": 195
        }
      ]
    },
    {
      "cell_type": "code",
      "source": [
        "print(a[0,0])  # 0행 0열\n",
        "print(a[0,1])  # 0행 1열\n",
        "print(a[2,1])  # 2행 1열"
      ],
      "metadata": {
        "colab": {
          "base_uri": "https://localhost:8080/"
        },
        "id": "4dx5UBFwQHcs",
        "outputId": "ef34b2b3-b98b-4e70-9bef-af2ad26a55a9"
      },
      "execution_count": null,
      "outputs": [
        {
          "output_type": "stream",
          "name": "stdout",
          "text": [
            "0\n",
            "1\n",
            "5\n"
          ]
        }
      ]
    },
    {
      "cell_type": "code",
      "source": [
        "a[[0,1],[1,1]]"
      ],
      "metadata": {
        "colab": {
          "base_uri": "https://localhost:8080/"
        },
        "id": "8vgrWa9dQS8i",
        "outputId": "427452fd-8c8c-4d20-8d23-8ae08513bbc0"
      },
      "execution_count": null,
      "outputs": [
        {
          "output_type": "execute_result",
          "data": {
            "text/plain": [
              "array([1, 3])"
            ]
          },
          "metadata": {},
          "execution_count": 199
        }
      ]
    },
    {
      "cell_type": "code",
      "source": [
        "a[a>2]"
      ],
      "metadata": {
        "colab": {
          "base_uri": "https://localhost:8080/"
        },
        "id": "PAH9tnKpQPdv",
        "outputId": "3f1571e5-93fa-4ea0-b99c-9559ef75e49a"
      },
      "execution_count": null,
      "outputs": [
        {
          "output_type": "execute_result",
          "data": {
            "text/plain": [
              "array([3, 4, 5])"
            ]
          },
          "metadata": {},
          "execution_count": 200
        }
      ]
    },
    {
      "cell_type": "code",
      "source": [
        "a = np.arange(0, 9).reshape(3,3)\n",
        "a"
      ],
      "metadata": {
        "colab": {
          "base_uri": "https://localhost:8080/"
        },
        "id": "SKJD5dFKQoNI",
        "outputId": "d79abca7-d8da-4a48-954b-74e12f1e6a1c"
      },
      "execution_count": null,
      "outputs": [
        {
          "output_type": "execute_result",
          "data": {
            "text/plain": [
              "array([[0, 1, 2],\n",
              "       [3, 4, 5],\n",
              "       [6, 7, 8]])"
            ]
          },
          "metadata": {},
          "execution_count": 201
        }
      ]
    },
    {
      "cell_type": "code",
      "source": [
        "a[0]"
      ],
      "metadata": {
        "colab": {
          "base_uri": "https://localhost:8080/"
        },
        "id": "7w0CuGB1QuFm",
        "outputId": "9b78fe41-8df4-4389-8040-1b26a94cf3ac"
      },
      "execution_count": null,
      "outputs": [
        {
          "output_type": "execute_result",
          "data": {
            "text/plain": [
              "array([0, 1, 2])"
            ]
          },
          "metadata": {},
          "execution_count": 202
        }
      ]
    },
    {
      "cell_type": "code",
      "source": [
        "a[0,:]"
      ],
      "metadata": {
        "colab": {
          "base_uri": "https://localhost:8080/"
        },
        "id": "9zOXP5btQ0U1",
        "outputId": "d56bdf3e-f3af-4d3a-c172-7969313a35f9"
      },
      "execution_count": null,
      "outputs": [
        {
          "output_type": "execute_result",
          "data": {
            "text/plain": [
              "array([0, 1, 2])"
            ]
          },
          "metadata": {},
          "execution_count": 203
        }
      ]
    },
    {
      "cell_type": "code",
      "source": [
        "a[:,0]"
      ],
      "metadata": {
        "colab": {
          "base_uri": "https://localhost:8080/"
        },
        "id": "7jvDNQCjQ4I5",
        "outputId": "e9b5a721-3b85-461b-b9fc-75629c5efaeb"
      },
      "execution_count": null,
      "outputs": [
        {
          "output_type": "execute_result",
          "data": {
            "text/plain": [
              "array([0, 3, 6])"
            ]
          },
          "metadata": {},
          "execution_count": 204
        }
      ]
    },
    {
      "cell_type": "code",
      "source": [
        "a[0,0:2]"
      ],
      "metadata": {
        "colab": {
          "base_uri": "https://localhost:8080/"
        },
        "id": "xWYem2GVQ-kx",
        "outputId": "7ddf23bd-3d18-4fba-c4a1-be4edda1fbf0"
      },
      "execution_count": null,
      "outputs": [
        {
          "output_type": "execute_result",
          "data": {
            "text/plain": [
              "array([0, 1])"
            ]
          },
          "metadata": {},
          "execution_count": 205
        }
      ]
    },
    {
      "cell_type": "code",
      "source": [
        "a[0:2, 0:2]  # 0~1행 0~1열"
      ],
      "metadata": {
        "colab": {
          "base_uri": "https://localhost:8080/"
        },
        "id": "lmM7F7nARGo3",
        "outputId": "05c01101-470d-4d35-addc-b5344170349c"
      },
      "execution_count": null,
      "outputs": [
        {
          "output_type": "execute_result",
          "data": {
            "text/plain": [
              "array([[0, 1],\n",
              "       [3, 4]])"
            ]
          },
          "metadata": {},
          "execution_count": 206
        }
      ]
    },
    {
      "cell_type": "code",
      "source": [
        "a[1:, 1:]"
      ],
      "metadata": {
        "colab": {
          "base_uri": "https://localhost:8080/"
        },
        "id": "0qBmfbzLRMUf",
        "outputId": "f727c9cd-e88a-491c-adca-c36632d7c613"
      },
      "execution_count": null,
      "outputs": [
        {
          "output_type": "execute_result",
          "data": {
            "text/plain": [
              "array([[4, 5],\n",
              "       [7, 8]])"
            ]
          },
          "metadata": {},
          "execution_count": 207
        }
      ]
    },
    {
      "cell_type": "code",
      "source": [
        "a[1:, 1:].shape"
      ],
      "metadata": {
        "colab": {
          "base_uri": "https://localhost:8080/"
        },
        "id": "Q2DB-Ze0RXHe",
        "outputId": "af149f84-3182-4d61-a4e2-4616c98c2b1b"
      },
      "execution_count": null,
      "outputs": [
        {
          "output_type": "execute_result",
          "data": {
            "text/plain": [
              "(2, 2)"
            ]
          },
          "metadata": {},
          "execution_count": 208
        }
      ]
    },
    {
      "cell_type": "code",
      "source": [
        "a = np.arange(0, 24).reshape(4,3,2)\n",
        "a"
      ],
      "metadata": {
        "colab": {
          "base_uri": "https://localhost:8080/"
        },
        "id": "JWKhW9CuRa4H",
        "outputId": "b2466e54-3a60-4a47-b8de-a8dbe07e9eb3"
      },
      "execution_count": null,
      "outputs": [
        {
          "output_type": "execute_result",
          "data": {
            "text/plain": [
              "array([[[ 0,  1],\n",
              "        [ 2,  3],\n",
              "        [ 4,  5]],\n",
              "\n",
              "       [[ 6,  7],\n",
              "        [ 8,  9],\n",
              "        [10, 11]],\n",
              "\n",
              "       [[12, 13],\n",
              "        [14, 15],\n",
              "        [16, 17]],\n",
              "\n",
              "       [[18, 19],\n",
              "        [20, 21],\n",
              "        [22, 23]]])"
            ]
          },
          "metadata": {},
          "execution_count": 210
        }
      ]
    },
    {
      "cell_type": "code",
      "source": [
        "a[1,2,1]"
      ],
      "metadata": {
        "colab": {
          "base_uri": "https://localhost:8080/"
        },
        "id": "-BjSWIiPRshK",
        "outputId": "8f8b2ab7-480e-4c56-d036-b47aa89f72da"
      },
      "execution_count": null,
      "outputs": [
        {
          "output_type": "execute_result",
          "data": {
            "text/plain": [
              "11"
            ]
          },
          "metadata": {},
          "execution_count": 211
        }
      ]
    },
    {
      "cell_type": "code",
      "source": [
        "a[0]"
      ],
      "metadata": {
        "colab": {
          "base_uri": "https://localhost:8080/"
        },
        "id": "lWL3UQCFR4WM",
        "outputId": "403854d2-84c5-41ab-aa8f-a3e23d7f7ccf"
      },
      "execution_count": null,
      "outputs": [
        {
          "output_type": "execute_result",
          "data": {
            "text/plain": [
              "array([[0, 1],\n",
              "       [2, 3],\n",
              "       [4, 5]])"
            ]
          },
          "metadata": {},
          "execution_count": 212
        }
      ]
    },
    {
      "cell_type": "code",
      "source": [
        "a[0,0]"
      ],
      "metadata": {
        "colab": {
          "base_uri": "https://localhost:8080/"
        },
        "id": "03ZazgS5R89r",
        "outputId": "8b912447-1813-4aa1-a378-106aad49d557"
      },
      "execution_count": null,
      "outputs": [
        {
          "output_type": "execute_result",
          "data": {
            "text/plain": [
              "array([0, 1])"
            ]
          },
          "metadata": {},
          "execution_count": 213
        }
      ]
    },
    {
      "cell_type": "code",
      "source": [
        "a[0,2]"
      ],
      "metadata": {
        "colab": {
          "base_uri": "https://localhost:8080/"
        },
        "id": "WFguz1QzSGJf",
        "outputId": "02d17afe-27e5-4a3f-c365-3a48818fd877"
      },
      "execution_count": null,
      "outputs": [
        {
          "output_type": "execute_result",
          "data": {
            "text/plain": [
              "array([4, 5])"
            ]
          },
          "metadata": {},
          "execution_count": 214
        }
      ]
    },
    {
      "cell_type": "code",
      "source": [
        "np.concatenate((a[0,0],a[0,2]),axis=0)"
      ],
      "metadata": {
        "colab": {
          "base_uri": "https://localhost:8080/"
        },
        "id": "BmGSlkPySRv7",
        "outputId": "eee810db-1266-45d5-9bda-4f9a7b1b3fd0"
      },
      "execution_count": null,
      "outputs": [
        {
          "output_type": "execute_result",
          "data": {
            "text/plain": [
              "array([0, 1, 4, 5])"
            ]
          },
          "metadata": {},
          "execution_count": 215
        }
      ]
    },
    {
      "cell_type": "code",
      "source": [
        "a = np.arange(1, 17).reshape(4,-1)\n",
        "a"
      ],
      "metadata": {
        "colab": {
          "base_uri": "https://localhost:8080/"
        },
        "id": "QFgfXeYoSqs0",
        "outputId": "ac726bf8-f51e-4357-cb79-5a624ac21fe9"
      },
      "execution_count": null,
      "outputs": [
        {
          "output_type": "execute_result",
          "data": {
            "text/plain": [
              "array([[ 1,  2,  3,  4],\n",
              "       [ 5,  6,  7,  8],\n",
              "       [ 9, 10, 11, 12],\n",
              "       [13, 14, 15, 16]])"
            ]
          },
          "metadata": {},
          "execution_count": 217
        }
      ]
    },
    {
      "cell_type": "code",
      "source": [
        "a % 2 == 0"
      ],
      "metadata": {
        "colab": {
          "base_uri": "https://localhost:8080/"
        },
        "id": "WjKqEzFTSvS_",
        "outputId": "96cf9149-d7fd-44e5-bd0d-19bb7ee6358d"
      },
      "execution_count": null,
      "outputs": [
        {
          "output_type": "execute_result",
          "data": {
            "text/plain": [
              "array([[False,  True, False,  True],\n",
              "       [False,  True, False,  True],\n",
              "       [False,  True, False,  True],\n",
              "       [False,  True, False,  True]])"
            ]
          },
          "metadata": {},
          "execution_count": 218
        }
      ]
    },
    {
      "cell_type": "code",
      "source": [
        "a[a % 2 == 0]"
      ],
      "metadata": {
        "colab": {
          "base_uri": "https://localhost:8080/"
        },
        "id": "ylsRLHyeS7dN",
        "outputId": "79ccdf91-ab87-4a4a-acb9-1b49a4931fe2"
      },
      "execution_count": null,
      "outputs": [
        {
          "output_type": "execute_result",
          "data": {
            "text/plain": [
              "array([ 2,  4,  6,  8, 10, 12, 14, 16])"
            ]
          },
          "metadata": {},
          "execution_count": 219
        }
      ]
    },
    {
      "cell_type": "markdown",
      "source": [
        "# 실습V"
      ],
      "metadata": {
        "id": "1SajgTMJY2mG"
      }
    },
    {
      "cell_type": "markdown",
      "source": [
        "*1*. 0에서 15까지의 연속적인 값을 원소로 가지는 4x4 크기의 2차원 배열 a를 생성하여라. 이 a를 인덱싱하여 다음과 같은 b, c, d, e, f 배열을 구하세요.\n",
        "\n",
        "\n",
        "```\n",
        "array([[ 0,  1,  2,  3],\n",
        "       [ 4,  5,  6,  7],\n",
        "       [ 8,  9, 10, 11],\n",
        "       [12, 13, 14, 15]])\n",
        "```\n",
        "\n",
        "\n",
        "```\n",
        "b= [ 1  5  9 13]\n",
        "c= [ 9 10 11]\n",
        "d= [[0 1]\n",
        " [4 5]]\n",
        "e= [[ 5  6]\n",
        " [ 9 10]]\n",
        "```\n",
        "\n",
        "\n"
      ],
      "metadata": {
        "id": "RGovZ4MFY7dF"
      }
    },
    {
      "cell_type": "code",
      "source": [
        "a = np.arange(0, 16).reshape(4,4)\n",
        "a"
      ],
      "metadata": {
        "id": "IWuVCyMRQ8ZA",
        "colab": {
          "base_uri": "https://localhost:8080/"
        },
        "outputId": "946fddbb-f4ea-484c-88a0-1eb5a009d526"
      },
      "execution_count": null,
      "outputs": [
        {
          "output_type": "execute_result",
          "data": {
            "text/plain": [
              "array([[ 0,  1,  2,  3],\n",
              "       [ 4,  5,  6,  7],\n",
              "       [ 8,  9, 10, 11],\n",
              "       [12, 13, 14, 15]])"
            ]
          },
          "metadata": {},
          "execution_count": 221
        }
      ]
    },
    {
      "cell_type": "code",
      "source": [
        "b = a[:, 1]\n",
        "print('b=',b )"
      ],
      "metadata": {
        "colab": {
          "base_uri": "https://localhost:8080/"
        },
        "id": "HfkgbqTfYPjL",
        "outputId": "3900399d-493d-4a7a-a97b-e0fe1280f497"
      },
      "execution_count": null,
      "outputs": [
        {
          "output_type": "stream",
          "name": "stdout",
          "text": [
            "b= [ 1  5  9 13]\n"
          ]
        }
      ]
    },
    {
      "cell_type": "code",
      "source": [
        "c = a[2, 1:]\n",
        "print('c=',c)"
      ],
      "metadata": {
        "colab": {
          "base_uri": "https://localhost:8080/"
        },
        "id": "LRv-37KfYySo",
        "outputId": "867d198d-6e03-4fbd-98e4-c520e50407ae"
      },
      "execution_count": null,
      "outputs": [
        {
          "output_type": "stream",
          "name": "stdout",
          "text": [
            "c= [ 9 10 11]\n"
          ]
        }
      ]
    },
    {
      "cell_type": "code",
      "source": [
        "d = a[0:2, 0:2]\n",
        "print('d=',d)"
      ],
      "metadata": {
        "colab": {
          "base_uri": "https://localhost:8080/"
        },
        "id": "NxQf2gM0ZCVT",
        "outputId": "2d23889a-a500-46e7-de9b-132b220051ca"
      },
      "execution_count": null,
      "outputs": [
        {
          "output_type": "stream",
          "name": "stdout",
          "text": [
            "d= [[0 1]\n",
            " [4 5]]\n"
          ]
        }
      ]
    },
    {
      "cell_type": "code",
      "source": [
        "e = a[1:3, 1:3]\n",
        "print('e=',e)"
      ],
      "metadata": {
        "colab": {
          "base_uri": "https://localhost:8080/"
        },
        "id": "jpBiHpUDZRL4",
        "outputId": "174314b9-2941-4fac-8cb5-bf3d067fb1d8"
      },
      "execution_count": null,
      "outputs": [
        {
          "output_type": "stream",
          "name": "stdout",
          "text": [
            "e= [[ 5  6]\n",
            " [ 9 10]]\n"
          ]
        }
      ]
    },
    {
      "cell_type": "markdown",
      "source": [
        "2. 문제 1에서 생성한 배열 a를 슬라이싱하고 평탄화 연산을 하여 다음과 같은 배열 f, g, h를 생성하세요.\n",
        "\n",
        "\n",
        "```\n",
        "f= [0 1 2 4 5 6]\n",
        "g= [ 8  9 10 11 12 13 14 15]\n",
        "h= [ 5  6  7 13 14 15]\n",
        "```\n",
        "\n"
      ],
      "metadata": {
        "id": "rDKcWXqHZsim"
      }
    },
    {
      "cell_type": "code",
      "source": [
        "a"
      ],
      "metadata": {
        "id": "O4LTMWkSQ-FZ",
        "colab": {
          "base_uri": "https://localhost:8080/"
        },
        "outputId": "2f246f73-bea9-4532-f7de-4cf84eb59756"
      },
      "execution_count": null,
      "outputs": [
        {
          "output_type": "execute_result",
          "data": {
            "text/plain": [
              "array([[ 0,  1,  2,  3],\n",
              "       [ 4,  5,  6,  7],\n",
              "       [ 8,  9, 10, 11],\n",
              "       [12, 13, 14, 15]])"
            ]
          },
          "metadata": {},
          "execution_count": 227
        }
      ]
    },
    {
      "cell_type": "code",
      "source": [
        "f = a[0:2, 0:3].flatten()\n",
        "print('f=',f)"
      ],
      "metadata": {
        "colab": {
          "base_uri": "https://localhost:8080/"
        },
        "id": "EIEg07TUZmZz",
        "outputId": "069f85b5-7f73-43eb-de7c-ed35e940cdd2"
      },
      "execution_count": null,
      "outputs": [
        {
          "output_type": "stream",
          "name": "stdout",
          "text": [
            "f= [0 1 2 4 5 6]\n"
          ]
        }
      ]
    },
    {
      "cell_type": "code",
      "source": [
        "g = a[2:, :].flatten()\n",
        "print('g=',g)\n"
      ],
      "metadata": {
        "colab": {
          "base_uri": "https://localhost:8080/"
        },
        "id": "L7tIBuJuZsN1",
        "outputId": "267a52b9-a7fe-4d39-cb57-87e6da5f74ca"
      },
      "execution_count": null,
      "outputs": [
        {
          "output_type": "stream",
          "name": "stdout",
          "text": [
            "g= [ 8  9 10 11 12 13 14 15]\n"
          ]
        }
      ]
    },
    {
      "cell_type": "code",
      "source": [
        "a1 = a[1, 1:]\n",
        "print(a1)\n",
        "a2 = a[3, 1:]\n",
        "print(a2)"
      ],
      "metadata": {
        "colab": {
          "base_uri": "https://localhost:8080/"
        },
        "id": "KIeZcubpafVo",
        "outputId": "dc46d430-df83-4a0f-a5b7-9314c0cfd5de"
      },
      "execution_count": null,
      "outputs": [
        {
          "output_type": "stream",
          "name": "stdout",
          "text": [
            "[5 6 7]\n",
            "[13 14 15]\n"
          ]
        }
      ]
    },
    {
      "cell_type": "code",
      "source": [
        "h = np.concatenate((a1, a2))\n",
        "print('h=',h)"
      ],
      "metadata": {
        "colab": {
          "base_uri": "https://localhost:8080/"
        },
        "id": "ks0CscC4atwR",
        "outputId": "0c6cf0a9-3447-4089-f5a5-a7be2bcff0c3"
      },
      "execution_count": null,
      "outputs": [
        {
          "output_type": "stream",
          "name": "stdout",
          "text": [
            "h= [ 5  6  7 13 14 15]\n"
          ]
        }
      ]
    },
    {
      "cell_type": "markdown",
      "source": [
        "3. 3차원 배열을 다음과 같이 인덱스와 원소 값이 나타나도록 출력하세요.(힌트 : for 문과 ndindex(a.shape) 함수를 사용)\n",
        "\n",
        "\n",
        "\n",
        "```\n",
        "array([[[ 0,  1],\n",
        "        [ 2,  3],\n",
        "        [ 4,  5]],\n",
        "\n",
        "       [[ 6,  7],\n",
        "        [ 8,  9],\n",
        "        [10, 11]],\n",
        "\n",
        "       [[12, 13],\n",
        "        [14, 15],\n",
        "        [16, 17]],\n",
        "\n",
        "       [[18, 19],\n",
        "        [20, 21],\n",
        "        [22, 23]]])\n",
        "```\n",
        "\n",
        "\n",
        "\n",
        "```\n",
        "index        element\n",
        "(0, 0, 0)      0\n",
        "(0, 0, 1)      1\n",
        "(0, 1, 0)      2\n",
        "(0, 1, 1)      3\n",
        "(0, 2, 0)      4\n",
        "(0, 2, 1)      5\n",
        "(1, 0, 0)      6\n",
        "(1, 0, 1)      7\n",
        "(1, 1, 0)      8\n",
        "(1, 1, 1)      9\n",
        "(1, 2, 0)     10\n",
        "(1, 2, 1)     11\n",
        "(2, 0, 0)     12\n",
        "(2, 0, 1)     13\n",
        "(2, 1, 0)     14\n",
        "(2, 1, 1)     15\n",
        "(2, 2, 0)     16\n",
        "(2, 2, 1)     17\n",
        "(3, 0, 0)     18\n",
        "(3, 0, 1)     19\n",
        "(3, 1, 0)     20\n",
        "(3, 1, 1)     21\n",
        "(3, 2, 0)     22\n",
        "(3, 2, 1)     23\n",
        "```\n",
        "\n"
      ],
      "metadata": {
        "id": "zsp4nPc7aWQQ"
      }
    },
    {
      "cell_type": "code",
      "source": [
        "a = np.arange(0, 24).reshape(4,3,2)\n",
        "a"
      ],
      "metadata": {
        "id": "srqcYZicQ_9F",
        "colab": {
          "base_uri": "https://localhost:8080/"
        },
        "outputId": "affdc878-b677-4c47-9b5a-e27b68993a40"
      },
      "execution_count": null,
      "outputs": [
        {
          "output_type": "execute_result",
          "data": {
            "text/plain": [
              "array([[[ 0,  1],\n",
              "        [ 2,  3],\n",
              "        [ 4,  5]],\n",
              "\n",
              "       [[ 6,  7],\n",
              "        [ 8,  9],\n",
              "        [10, 11]],\n",
              "\n",
              "       [[12, 13],\n",
              "        [14, 15],\n",
              "        [16, 17]],\n",
              "\n",
              "       [[18, 19],\n",
              "        [20, 21],\n",
              "        [22, 23]]])"
            ]
          },
          "metadata": {},
          "execution_count": 237
        }
      ]
    },
    {
      "cell_type": "code",
      "source": [
        "a[(0,0,0)]"
      ],
      "metadata": {
        "colab": {
          "base_uri": "https://localhost:8080/"
        },
        "id": "VylkQCOJbwIp",
        "outputId": "911b9e13-4f0a-42f1-fca0-6879a9cab9be"
      },
      "execution_count": null,
      "outputs": [
        {
          "output_type": "execute_result",
          "data": {
            "text/plain": [
              "0"
            ]
          },
          "metadata": {},
          "execution_count": 238
        }
      ]
    },
    {
      "cell_type": "code",
      "source": [
        "a[(0,0,1)]"
      ],
      "metadata": {
        "colab": {
          "base_uri": "https://localhost:8080/"
        },
        "id": "xmw_jtK1b1rM",
        "outputId": "89f653ec-ebea-4d47-d46a-b0aa4f6eda9e"
      },
      "execution_count": null,
      "outputs": [
        {
          "output_type": "execute_result",
          "data": {
            "text/plain": [
              "1"
            ]
          },
          "metadata": {},
          "execution_count": 239
        }
      ]
    },
    {
      "cell_type": "code",
      "source": [
        "print('index\\t\\telement')\n",
        "for i in np.ndindex(a.shape):\n",
        "  print(f'{i} {a[i]:7d}')"
      ],
      "metadata": {
        "colab": {
          "base_uri": "https://localhost:8080/"
        },
        "id": "AsCj8uCRcAIq",
        "outputId": "56ef3dbb-a63d-47a3-8641-cc9f713e1c9e"
      },
      "execution_count": null,
      "outputs": [
        {
          "output_type": "stream",
          "name": "stdout",
          "text": [
            "index\t\telement\n",
            "(0, 0, 0)       0\n",
            "(0, 0, 1)       1\n",
            "(0, 1, 0)       2\n",
            "(0, 1, 1)       3\n",
            "(0, 2, 0)       4\n",
            "(0, 2, 1)       5\n",
            "(1, 0, 0)       6\n",
            "(1, 0, 1)       7\n",
            "(1, 1, 0)       8\n",
            "(1, 1, 1)       9\n",
            "(1, 2, 0)      10\n",
            "(1, 2, 1)      11\n",
            "(2, 0, 0)      12\n",
            "(2, 0, 1)      13\n",
            "(2, 1, 0)      14\n",
            "(2, 1, 1)      15\n",
            "(2, 2, 0)      16\n",
            "(2, 2, 1)      17\n",
            "(3, 0, 0)      18\n",
            "(3, 0, 1)      19\n",
            "(3, 1, 0)      20\n",
            "(3, 1, 1)      21\n",
            "(3, 2, 0)      22\n",
            "(3, 2, 1)      23\n"
          ]
        }
      ]
    },
    {
      "cell_type": "markdown",
      "source": [
        "4. 문제3의 배열을 concatenate() 함수를 사용하여 다음과 같은 배열을 만드세요.\n",
        "\n",
        "\n",
        "```\n",
        "1) array([0, 1, 6, 7])\n",
        "2) array([ 0,  1, 14, 15])\n",
        "3)\n",
        "array([[ 0,  1],\n",
        "       [ 2,  3],\n",
        "       [ 4,  5],\n",
        "       [ 6,  7],\n",
        "       [ 8,  9],\n",
        "       [10, 11]])\n",
        "4)\n",
        "array([[ 0,  1,  6,  7],\n",
        "       [ 2,  3,  8,  9],\n",
        "       [ 4,  5, 10, 11]])\n",
        "```\n",
        "\n",
        "\n"
      ],
      "metadata": {
        "id": "6XbwGjeSbO_y"
      }
    },
    {
      "cell_type": "code",
      "source": [
        "a = np.arange(0, 24).reshape(4,3,2)\n",
        "a"
      ],
      "metadata": {
        "colab": {
          "base_uri": "https://localhost:8080/"
        },
        "id": "2MF31zAJdFh_",
        "outputId": "075bc798-1b43-4ba3-d6c8-c4b88a98cdae"
      },
      "execution_count": null,
      "outputs": [
        {
          "output_type": "execute_result",
          "data": {
            "text/plain": [
              "array([[[ 0,  1],\n",
              "        [ 2,  3],\n",
              "        [ 4,  5]],\n",
              "\n",
              "       [[ 6,  7],\n",
              "        [ 8,  9],\n",
              "        [10, 11]],\n",
              "\n",
              "       [[12, 13],\n",
              "        [14, 15],\n",
              "        [16, 17]],\n",
              "\n",
              "       [[18, 19],\n",
              "        [20, 21],\n",
              "        [22, 23]]])"
            ]
          },
          "metadata": {},
          "execution_count": 251
        }
      ]
    },
    {
      "cell_type": "code",
      "source": [
        "np.concatenate((a[0,0], a[1,0]),axis=0)"
      ],
      "metadata": {
        "id": "FxY-10tYRBVX",
        "colab": {
          "base_uri": "https://localhost:8080/"
        },
        "outputId": "38893a69-b1dd-4ad7-a155-ab3b85a8f885"
      },
      "execution_count": null,
      "outputs": [
        {
          "output_type": "execute_result",
          "data": {
            "text/plain": [
              "array([0, 1, 6, 7])"
            ]
          },
          "metadata": {},
          "execution_count": 253
        }
      ]
    },
    {
      "cell_type": "code",
      "source": [
        "np.concatenate((a[0,0], a[2,1]),axis=0)"
      ],
      "metadata": {
        "colab": {
          "base_uri": "https://localhost:8080/"
        },
        "id": "fIiqSGkbd1nH",
        "outputId": "0480c632-f7d5-4d73-9780-5faf6b5133b0"
      },
      "execution_count": null,
      "outputs": [
        {
          "output_type": "execute_result",
          "data": {
            "text/plain": [
              "array([ 0,  1, 14, 15])"
            ]
          },
          "metadata": {},
          "execution_count": 254
        }
      ]
    },
    {
      "cell_type": "code",
      "source": [
        "np.concatenate((a[0], a[1]),axis=0)"
      ],
      "metadata": {
        "colab": {
          "base_uri": "https://localhost:8080/"
        },
        "id": "lYBsYe6ceGNo",
        "outputId": "7d695c1a-fb15-4783-95a9-96e8ad55d68c"
      },
      "execution_count": null,
      "outputs": [
        {
          "output_type": "execute_result",
          "data": {
            "text/plain": [
              "array([[ 0,  1],\n",
              "       [ 2,  3],\n",
              "       [ 4,  5],\n",
              "       [ 6,  7],\n",
              "       [ 8,  9],\n",
              "       [10, 11]])"
            ]
          },
          "metadata": {},
          "execution_count": 255
        }
      ]
    },
    {
      "cell_type": "code",
      "source": [
        "np.concatenate((a[0], a[1]),axis=1)"
      ],
      "metadata": {
        "colab": {
          "base_uri": "https://localhost:8080/"
        },
        "id": "otB2-nDAeQOR",
        "outputId": "83aa184b-2c35-443f-eb7e-97bc8cb9821c"
      },
      "execution_count": null,
      "outputs": [
        {
          "output_type": "execute_result",
          "data": {
            "text/plain": [
              "array([[ 0,  1,  6,  7],\n",
              "       [ 2,  3,  8,  9],\n",
              "       [ 4,  5, 10, 11]])"
            ]
          },
          "metadata": {},
          "execution_count": 256
        }
      ]
    },
    {
      "cell_type": "markdown",
      "source": [
        "# 수학,통계 함수"
      ],
      "metadata": {
        "id": "VTAyYnX7aWdH"
      }
    },
    {
      "cell_type": "code",
      "source": [
        "a = np.array([[1,2,3],[4,5,6]])\n",
        "a"
      ],
      "metadata": {
        "id": "IIQ2yY17RDkW",
        "colab": {
          "base_uri": "https://localhost:8080/"
        },
        "outputId": "22d384e4-7c68-4306-f69b-6e38dadbbc88"
      },
      "execution_count": null,
      "outputs": [
        {
          "output_type": "execute_result",
          "data": {
            "text/plain": [
              "array([[1, 2, 3],\n",
              "       [4, 5, 6]])"
            ]
          },
          "metadata": {},
          "execution_count": 257
        }
      ]
    },
    {
      "cell_type": "code",
      "source": [
        "np.sum(a)"
      ],
      "metadata": {
        "colab": {
          "base_uri": "https://localhost:8080/"
        },
        "id": "HH1qfBCvg2rR",
        "outputId": "328c19ca-78a1-4f04-c256-8707c1da8386"
      },
      "execution_count": null,
      "outputs": [
        {
          "output_type": "execute_result",
          "data": {
            "text/plain": [
              "4"
            ]
          },
          "metadata": {},
          "execution_count": 8
        }
      ]
    },
    {
      "cell_type": "code",
      "source": [
        "np.sum(a, axis=0)  # 열끼리 더함"
      ],
      "metadata": {
        "colab": {
          "base_uri": "https://localhost:8080/"
        },
        "id": "huujA3L3g8D-",
        "outputId": "c166aa10-1168-45f5-c4e0-9b42bd8eb20d"
      },
      "execution_count": null,
      "outputs": [
        {
          "output_type": "execute_result",
          "data": {
            "text/plain": [
              "array([5, 7, 9])"
            ]
          },
          "metadata": {},
          "execution_count": 259
        }
      ]
    },
    {
      "cell_type": "code",
      "source": [
        "np.sum(a, axis=1)  # 행끼리 더함"
      ],
      "metadata": {
        "colab": {
          "base_uri": "https://localhost:8080/"
        },
        "id": "Ydo-oq3hhArL",
        "outputId": "e76a5a94-d23c-4f67-c245-ca384c1c9a30"
      },
      "execution_count": null,
      "outputs": [
        {
          "output_type": "execute_result",
          "data": {
            "text/plain": [
              "array([ 6, 15])"
            ]
          },
          "metadata": {},
          "execution_count": 260
        }
      ]
    },
    {
      "cell_type": "code",
      "source": [
        "np.min(a)  "
      ],
      "metadata": {
        "colab": {
          "base_uri": "https://localhost:8080/"
        },
        "id": "JYFxgUeOhIZJ",
        "outputId": "af201e8a-e33c-4f06-c02b-1dd8c13fa07d"
      },
      "execution_count": null,
      "outputs": [
        {
          "output_type": "execute_result",
          "data": {
            "text/plain": [
              "1"
            ]
          },
          "metadata": {},
          "execution_count": 261
        }
      ]
    },
    {
      "cell_type": "code",
      "source": [
        "np.argmin(a)  # 최솟값의 인덱스"
      ],
      "metadata": {
        "colab": {
          "base_uri": "https://localhost:8080/"
        },
        "id": "ai04JNBAhOeI",
        "outputId": "bf7b8839-41b5-4c7b-b62b-8cd837607317"
      },
      "execution_count": null,
      "outputs": [
        {
          "output_type": "execute_result",
          "data": {
            "text/plain": [
              "0"
            ]
          },
          "metadata": {},
          "execution_count": 262
        }
      ]
    },
    {
      "cell_type": "code",
      "source": [
        "np.argmax(a)  # 최댓값의 인덱스"
      ],
      "metadata": {
        "colab": {
          "base_uri": "https://localhost:8080/"
        },
        "id": "3KDB-WPmhUN8",
        "outputId": "5421fcd0-433e-4c5d-d165-6e6e1b83c87f"
      },
      "execution_count": null,
      "outputs": [
        {
          "output_type": "execute_result",
          "data": {
            "text/plain": [
              "5"
            ]
          },
          "metadata": {},
          "execution_count": 263
        }
      ]
    },
    {
      "cell_type": "code",
      "source": [
        "np.mean(a, axis = 1)  # 행끼리 평균"
      ],
      "metadata": {
        "colab": {
          "base_uri": "https://localhost:8080/"
        },
        "id": "TKRdXAwChOkW",
        "outputId": "4ebc7c07-b18b-4e64-ba98-67db636d10be"
      },
      "execution_count": null,
      "outputs": [
        {
          "output_type": "execute_result",
          "data": {
            "text/plain": [
              "array([2., 5.])"
            ]
          },
          "metadata": {},
          "execution_count": 264
        }
      ]
    },
    {
      "cell_type": "code",
      "source": [
        "a.std()"
      ],
      "metadata": {
        "colab": {
          "base_uri": "https://localhost:8080/"
        },
        "id": "VZpLwRh6hmpd",
        "outputId": "02b1f32f-a6e6-4ef1-9011-16d516cc37eb"
      },
      "execution_count": null,
      "outputs": [
        {
          "output_type": "execute_result",
          "data": {
            "text/plain": [
              "1.707825127659933"
            ]
          },
          "metadata": {},
          "execution_count": 265
        }
      ]
    },
    {
      "cell_type": "code",
      "source": [
        "a.std(axis=0)"
      ],
      "metadata": {
        "colab": {
          "base_uri": "https://localhost:8080/"
        },
        "id": "XIrmKV0mhqH3",
        "outputId": "eae132ce-9d2c-4824-96ff-a4a241ac8d91"
      },
      "execution_count": null,
      "outputs": [
        {
          "output_type": "execute_result",
          "data": {
            "text/plain": [
              "array([1.5, 1.5, 1.5])"
            ]
          },
          "metadata": {},
          "execution_count": 266
        }
      ]
    },
    {
      "cell_type": "code",
      "source": [
        "a.var(axis=0)"
      ],
      "metadata": {
        "colab": {
          "base_uri": "https://localhost:8080/"
        },
        "id": "OQcB6n6zhyXR",
        "outputId": "8b449bea-ab55-49b1-e500-1f01055f2abb"
      },
      "execution_count": null,
      "outputs": [
        {
          "output_type": "execute_result",
          "data": {
            "text/plain": [
              "array([2.25, 2.25, 2.25])"
            ]
          },
          "metadata": {},
          "execution_count": 268
        }
      ]
    },
    {
      "cell_type": "markdown",
      "source": [
        "# 선형방정식 풀이"
      ],
      "metadata": {
        "id": "rLHTn1CjaWu5"
      }
    },
    {
      "cell_type": "code",
      "source": [
        "a = np.array([[2,3],[1,-2]])\n",
        "b = np.array([1,4])\n",
        "x = np.linalg.solve(a,b)  # 연립방정식 해 구하기\n",
        "x"
      ],
      "metadata": {
        "id": "jeV21kLZRF0s",
        "colab": {
          "base_uri": "https://localhost:8080/"
        },
        "outputId": "74fbd6ee-aff3-4f72-9359-99749b1c643f"
      },
      "execution_count": null,
      "outputs": [
        {
          "output_type": "execute_result",
          "data": {
            "text/plain": [
              "array([ 2., -1.])"
            ]
          },
          "metadata": {},
          "execution_count": 9
        }
      ]
    }
  ]
}