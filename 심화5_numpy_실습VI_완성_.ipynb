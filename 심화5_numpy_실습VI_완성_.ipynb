{
  "nbformat": 4,
  "nbformat_minor": 0,
  "metadata": {
    "colab": {
      "name": "심화5_numpy_실습VI_완성_.ipynb",
      "provenance": [],
      "collapsed_sections": [
        "Jz3W4KDzY0ld",
        "sN4Q6gw3-r3S"
      ],
      "include_colab_link": true
    },
    "kernelspec": {
      "name": "python3",
      "display_name": "Python 3"
    },
    "language_info": {
      "name": "python"
    }
  },
  "cells": [
    {
      "cell_type": "markdown",
      "metadata": {
        "id": "view-in-github",
        "colab_type": "text"
      },
      "source": [
        "<a href=\"https://colab.research.google.com/github/du6293/project/blob/main/%EC%8B%AC%ED%99%945_numpy_%EC%8B%A4%EC%8A%B5VI_%EC%99%84%EC%84%B1_.ipynb\" target=\"_parent\"><img src=\"https://colab.research.google.com/assets/colab-badge.svg\" alt=\"Open In Colab\"/></a>"
      ]
    },
    {
      "cell_type": "markdown",
      "source": [
        "# 실습 I"
      ],
      "metadata": {
        "id": "mdhzuaEc_e6R"
      }
    },
    {
      "cell_type": "markdown",
      "metadata": {
        "id": "bhSHNfKmVXa-"
      },
      "source": [
        "\n",
        "####1 : 다차원 배열 생성하기(난이도 : 중)\n",
        "\n",
        "대각 성분이 모두 10인 4x4 크기의 다차원 배열을 생성하여라.\n",
        "\n",
        "\n",
        "\n",
        "\n"
      ]
    },
    {
      "cell_type": "code",
      "source": [
        "import numpy as np\n",
        "\n",
        "np.eye(4) *10"
      ],
      "metadata": {
        "id": "zpWZ7J5aBn3B",
        "colab": {
          "base_uri": "https://localhost:8080/"
        },
        "outputId": "b058580f-8353-4eeb-d62b-e8340f375086"
      },
      "execution_count": null,
      "outputs": [
        {
          "output_type": "execute_result",
          "data": {
            "text/plain": [
              "array([[10.,  0.,  0.,  0.],\n",
              "       [ 0., 10.,  0.,  0.],\n",
              "       [ 0.,  0., 10.,  0.],\n",
              "       [ 0.,  0.,  0., 10.]])"
            ]
          },
          "metadata": {},
          "execution_count": 2
        }
      ]
    },
    {
      "cell_type": "markdown",
      "source": [
        "####2 : \n",
        "sin0도에서 sin180도 사이의 값 11개를 다음과 같이 출력하여라. 이때 sin() 함수의 입력을 라디안을 사용하여라( 힌트 linspace()함수를 사용해조가. 라디안으로 180도는 np.pi 사용하면 된다.)"
      ],
      "metadata": {
        "id": "du2mwLr-wapJ"
      }
    },
    {
      "cell_type": "code",
      "source": [
        "np.linspace(0,np.sin(np.pi), 11)"
      ],
      "metadata": {
        "id": "7AsfBjqBBnWY",
        "colab": {
          "base_uri": "https://localhost:8080/"
        },
        "outputId": "09ddd2b0-5b08-43dd-c6df-658eeb4b5d91"
      },
      "execution_count": null,
      "outputs": [
        {
          "output_type": "execute_result",
          "data": {
            "text/plain": [
              "array([0.00000000e+00, 1.22464680e-17, 2.44929360e-17, 3.67394040e-17,\n",
              "       4.89858720e-17, 6.12323400e-17, 7.34788079e-17, 8.57252759e-17,\n",
              "       9.79717439e-17, 1.10218212e-16, 1.22464680e-16])"
            ]
          },
          "metadata": {},
          "execution_count": 3
        }
      ]
    },
    {
      "cell_type": "markdown",
      "metadata": {
        "id": "9dkB6TaAX6E0"
      },
      "source": [
        "###3(난이도 : 하)\n",
        "\n",
        "b = np.array([[1, 1], [2, 2], [3, 3]])\n",
        "\n",
        "위의 b 배열에 insert(b, 1, [1, 2, 3], axis=1)을 수행하고 그 결과를 출력하여라. \n",
        "\n"
      ]
    },
    {
      "cell_type": "code",
      "source": [
        "b = np.array([[1,1],[2,2],[3,3]])\n",
        "b\n",
        "np.insert(b, 1, [1,2,3], axis = 1)"
      ],
      "metadata": {
        "id": "JyIP1YTcBp6g",
        "colab": {
          "base_uri": "https://localhost:8080/"
        },
        "outputId": "ef993214-de88-4e6d-9843-2f91d70b51a8"
      },
      "execution_count": null,
      "outputs": [
        {
          "output_type": "execute_result",
          "data": {
            "text/plain": [
              "array([[1, 1, 1],\n",
              "       [2, 2, 2],\n",
              "       [3, 3, 3]])"
            ]
          },
          "metadata": {},
          "execution_count": 6
        }
      ]
    },
    {
      "cell_type": "code",
      "source": [
        ""
      ],
      "metadata": {
        "id": "9dYdjRXusd2u"
      },
      "execution_count": null,
      "outputs": []
    },
    {
      "cell_type": "markdown",
      "metadata": {
        "id": "Jz3W4KDzY0ld"
      },
      "source": [
        "### 4(난이도 : 중)\n",
        " d 배열의 값이 axis 1, axis 0 방향에 대하여 각각 내림차순 정렬이 되도록 하고 그 결과를 출력하여라(힌트: 넘파이의 flip() 함수를 사용해보자).\n",
        "\n",
        "\n",
        "```\n",
        "d= array([[35, 24, 55],\n",
        "       [69, 19,  9],\n",
        "       [ 4,  1, 11]])\n",
        "\n",
        "array([[55, 35, 24],\n",
        "       [69, 19,  9],\n",
        "       [11,  4,  1]])\n",
        "\n",
        "       \n",
        "array([[69, 24, 55],\n",
        "       [35, 19, 11],\n",
        "       [ 4,  1,  9]])\n",
        "\n",
        "```\n",
        "\n",
        "\n",
        "\n",
        "\n",
        "\n"
      ]
    },
    {
      "cell_type": "code",
      "source": [
        "d = np.array([[35,24,55],[69,19,9],[4,1,11]])\n",
        "d"
      ],
      "metadata": {
        "id": "W7Nv481vBr37",
        "colab": {
          "base_uri": "https://localhost:8080/"
        },
        "outputId": "ea045e88-13f7-4a29-b955-c36367cdbbf0"
      },
      "execution_count": null,
      "outputs": [
        {
          "output_type": "execute_result",
          "data": {
            "text/plain": [
              "array([[35, 24, 55],\n",
              "       [69, 19,  9],\n",
              "       [ 4,  1, 11]])"
            ]
          },
          "metadata": {},
          "execution_count": 14
        }
      ]
    },
    {
      "cell_type": "code",
      "source": [
        "d.sort()\n",
        "np.flip(d, axis=1)"
      ],
      "metadata": {
        "colab": {
          "base_uri": "https://localhost:8080/"
        },
        "id": "UOiOZ0L9tEfe",
        "outputId": "51be0751-0ea0-420f-c28d-173e0aa19104"
      },
      "execution_count": null,
      "outputs": [
        {
          "output_type": "execute_result",
          "data": {
            "text/plain": [
              "array([[55, 35, 24],\n",
              "       [69, 19,  9],\n",
              "       [11,  4,  1]])"
            ]
          },
          "metadata": {},
          "execution_count": 13
        }
      ]
    },
    {
      "cell_type": "code",
      "source": [
        "d.sort(axis=0)\n",
        "np.flip(d, axis=0)"
      ],
      "metadata": {
        "colab": {
          "base_uri": "https://localhost:8080/"
        },
        "id": "vswuQBTStLQn",
        "outputId": "a9f24786-f319-4b7d-e9a8-47e1f369c646"
      },
      "execution_count": null,
      "outputs": [
        {
          "output_type": "execute_result",
          "data": {
            "text/plain": [
              "array([[69, 24, 55],\n",
              "       [35, 19, 11],\n",
              "       [ 4,  1,  9]])"
            ]
          },
          "metadata": {},
          "execution_count": 17
        }
      ]
    },
    {
      "cell_type": "markdown",
      "metadata": {
        "id": "obOttZpdZLA3"
      },
      "source": [
        "\n",
        "### 5 : 다차원 행렬의 생성과 활용(난이도 : 중)\n",
        "\n",
        "1. 1에서 9까지의 모든 정수 값을 크기 순서대로 가지는 3x3 크기의 행렬 a를 arange()와 reshape()을 이용하여 생성하고, 모든 성분의 값이 3인 3x3 크기의 행렬 b를 full() 함수를 사용하여 생성한 다음, 다음과 같이 출력하여라.\n",
        "\n",
        "a = [[1 2 3] \n",
        "     [4 5 6]\n",
        "     [7 8 9]]\n",
        "\n",
        "\n",
        "b = [[3 3 3] \n",
        "     [3 3 3]\n",
        "     [3 3 3]]\n",
        "\n",
        "\n",
        "2. 다음과 같은 행렬 연산의 수행한 후 그 결과를 출력하시오.\n",
        "\n",
        "      a + b, a - b, a * b, a / b, a @ b, a ** 2\n",
        "\n",
        "\n",
        "\n",
        "\n"
      ]
    },
    {
      "cell_type": "code",
      "source": [
        "a = np.arange(1, 10).reshape(3,3)\n",
        "a"
      ],
      "metadata": {
        "id": "2BXgl32_BuRJ",
        "colab": {
          "base_uri": "https://localhost:8080/"
        },
        "outputId": "36509efd-5873-4112-ada5-1e7c4a913d9c"
      },
      "execution_count": null,
      "outputs": [
        {
          "output_type": "execute_result",
          "data": {
            "text/plain": [
              "array([[1, 2, 3],\n",
              "       [4, 5, 6],\n",
              "       [7, 8, 9]])"
            ]
          },
          "metadata": {},
          "execution_count": 18
        }
      ]
    },
    {
      "cell_type": "code",
      "source": [
        "b = np.full((3,3), 3)\n",
        "b"
      ],
      "metadata": {
        "colab": {
          "base_uri": "https://localhost:8080/"
        },
        "id": "8LizZp5JuRFJ",
        "outputId": "75a44de3-62d3-4ee1-df00-ab99d162c083"
      },
      "execution_count": null,
      "outputs": [
        {
          "output_type": "execute_result",
          "data": {
            "text/plain": [
              "array([[3, 3, 3],\n",
              "       [3, 3, 3],\n",
              "       [3, 3, 3]])"
            ]
          },
          "metadata": {},
          "execution_count": 19
        }
      ]
    },
    {
      "cell_type": "code",
      "source": [
        "print('a+b=',a+b)\n",
        "print('a-b=',a-b)\n",
        "print('a*b=',a*b)\n",
        "print('a/b=',a/b)\n",
        "print('a@b=',a@b)\n",
        "print('a**2=',a**2)"
      ],
      "metadata": {
        "colab": {
          "base_uri": "https://localhost:8080/"
        },
        "id": "o2xD7sE8ud2F",
        "outputId": "467c2386-796a-4e79-ef9b-041cb4b26baf"
      },
      "execution_count": null,
      "outputs": [
        {
          "output_type": "stream",
          "name": "stdout",
          "text": [
            "a+b= [[ 4  5  6]\n",
            " [ 7  8  9]\n",
            " [10 11 12]]\n",
            "a-b= [[-2 -1  0]\n",
            " [ 1  2  3]\n",
            " [ 4  5  6]]\n",
            "a*b= [[ 3  6  9]\n",
            " [12 15 18]\n",
            " [21 24 27]]\n",
            "a/b= [[0.33333333 0.66666667 1.        ]\n",
            " [1.33333333 1.66666667 2.        ]\n",
            " [2.33333333 2.66666667 3.        ]]\n",
            "a@b= [[18 18 18]\n",
            " [45 45 45]\n",
            " [72 72 72]]\n",
            "a**2= [[ 1  4  9]\n",
            " [16 25 36]\n",
            " [49 64 81]]\n"
          ]
        }
      ]
    },
    {
      "cell_type": "markdown",
      "metadata": {
        "id": "sdjh3FUraUb_"
      },
      "source": [
        "\n",
        "### 6(난이도 : 중)\n",
        "arange()를 사용하여 1에서 50까지의 원소를 가지는 다차원 배열을 만들자. 이 배열의 원소 50개를 랜덤하게 섞은 후 80%의 데이터는 train_data에 넣고 나머지 20%의 데이터는 test_data라는 배열에 넣어서 이 두 배열을 반환하는 함수 train_test_split()을 만들자. 반환된 배열값을 각각 출력해 보자.\n",
        "\n"
      ]
    },
    {
      "cell_type": "code",
      "source": [
        "a = np.arange(1, 51)\n",
        "a\n"
      ],
      "metadata": {
        "id": "3H4f0WUlBs7I",
        "colab": {
          "base_uri": "https://localhost:8080/"
        },
        "outputId": "31c2bea1-3a64-467c-a994-dd2a6f3c0605"
      },
      "execution_count": null,
      "outputs": [
        {
          "output_type": "execute_result",
          "data": {
            "text/plain": [
              "array([ 1,  2,  3,  4,  5,  6,  7,  8,  9, 10, 11, 12, 13, 14, 15, 16, 17,\n",
              "       18, 19, 20, 21, 22, 23, 24, 25, 26, 27, 28, 29, 30, 31, 32, 33, 34,\n",
              "       35, 36, 37, 38, 39, 40, 41, 42, 43, 44, 45, 46, 47, 48, 49, 50])"
            ]
          },
          "metadata": {},
          "execution_count": 22
        }
      ]
    },
    {
      "cell_type": "code",
      "source": [
        "np.random.shuffle(a)\n",
        "a"
      ],
      "metadata": {
        "colab": {
          "base_uri": "https://localhost:8080/"
        },
        "id": "m0kas4S-vOqO",
        "outputId": "1430b11a-b67d-440f-ce71-3e877c9b7c76"
      },
      "execution_count": null,
      "outputs": [
        {
          "output_type": "execute_result",
          "data": {
            "text/plain": [
              "array([ 5, 15, 31, 24, 12, 14, 42, 47,  8, 36, 19, 38, 10, 44, 40, 39, 28,\n",
              "       34, 48,  3, 41, 35, 49, 29, 43, 11, 17,  1, 22, 18, 33, 20, 16, 30,\n",
              "        2, 23, 45, 21,  4, 13, 32,  9,  7, 27,  6, 25, 50, 37, 26, 46])"
            ]
          },
          "metadata": {},
          "execution_count": 27
        }
      ]
    },
    {
      "cell_type": "code",
      "source": [
        "a = np.arange(1, 51)\n",
        "np.random.shuffle(a)\n",
        "\n",
        "def train_test_split(data,per):\n",
        "  n = len(data) *per//100\n",
        "  train = data[0:n]\n",
        "  test = data[n:]\n",
        "  return train, test\n",
        "\n",
        "train_data, test_date = train_test_split(a,80) \n",
        "print(train_data, test_date)\n"
      ],
      "metadata": {
        "colab": {
          "base_uri": "https://localhost:8080/"
        },
        "id": "tNrSbf5wvh2M",
        "outputId": "28ef1208-7ffd-4f59-9ec7-8470190ed2bd"
      },
      "execution_count": null,
      "outputs": [
        {
          "output_type": "stream",
          "name": "stdout",
          "text": [
            "[ 4  6 12 10 42 37 38 29 33  9  1  3 49 45 30 11 32  2 40  5 20 17 41 50\n",
            " 25 44 19 26 23  8 16 48 14  7 27 13 34 35 24 28] [15 31 36 22 18 43 47 21 46 39]\n"
          ]
        }
      ]
    },
    {
      "cell_type": "markdown",
      "source": [
        "### 7 다차원 행렬의 생성과 활용 (난이도 : 중)\n",
        "\n",
        "1) 다음과 같은 연립방정식의 해를 numpy.linalg의 solve()함수를 사용하여 구하여라.\n",
        "\n",
        "\n",
        "```\n",
        "x + y -z = 0\n",
        "2x - y +3z = 9\n",
        "x + 2y +z = 8\n",
        "```\n",
        "\n"
      ],
      "metadata": {
        "id": "Z0NPQrDy5GGU"
      }
    },
    {
      "cell_type": "code",
      "source": [
        "a = np.array([[1,1,-1], [2,-1, 3],[1,2,1]])\n",
        "b = np.array([0,9,8])\n",
        "x = np.linalg.solve(a, b)\n",
        "x"
      ],
      "metadata": {
        "id": "z_8AuQieBwUl",
        "colab": {
          "base_uri": "https://localhost:8080/"
        },
        "outputId": "a98546e2-d4c3-43ca-e1c8-806b058b6e58"
      },
      "execution_count": null,
      "outputs": [
        {
          "output_type": "execute_result",
          "data": {
            "text/plain": [
              "array([1., 2., 3.])"
            ]
          },
          "metadata": {},
          "execution_count": 30
        }
      ]
    },
    {
      "cell_type": "markdown",
      "source": [
        "2) 1번 문제의 연립방정식은 다음과 같은 행렬 를 가진다.\n",
        "\n",
        "```\n",
        "A = np.array([[1,1,-1],[2,-1, 3],[1,2,1]],dtype='int32')\n",
        "```\n",
        "이 행렬의 행렬식을 linalg.det()함수를 사용하여 다음과 같이 구하여라\n",
        "\n",
        "\n",
        "```\n",
        "det(A) = -11.0\n",
        "```\n",
        "\n",
        "\n"
      ],
      "metadata": {
        "id": "WSUBAdTeXnqE"
      }
    },
    {
      "cell_type": "code",
      "source": [
        "np.linalg.det(a)"
      ],
      "metadata": {
        "id": "dXZA45I6ByCt",
        "colab": {
          "base_uri": "https://localhost:8080/"
        },
        "outputId": "8e2882ff-a5b0-47d1-cb0e-2d920311e0ee"
      },
      "execution_count": null,
      "outputs": [
        {
          "output_type": "execute_result",
          "data": {
            "text/plain": [
              "-11.000000000000002"
            ]
          },
          "metadata": {},
          "execution_count": 34
        }
      ]
    },
    {
      "cell_type": "markdown",
      "metadata": {
        "id": "sN4Q6gw3-r3S"
      },
      "source": [
        "# 실습II"
      ]
    },
    {
      "cell_type": "markdown",
      "metadata": {
        "id": "vsJFKOnzcVQU"
      },
      "source": [
        "###1 다음의 기능을 넘파이를 사용하여 구현하시오. \n",
        "1) numpy의 arange() 함수를 사용하여 1에서 45까지의 연속적인 번호를 생성하여라. "
      ]
    },
    {
      "cell_type": "code",
      "source": [
        "a = np.arange(1, 46)\n",
        "a"
      ],
      "metadata": {
        "id": "Nnh1QyB7Bz02",
        "colab": {
          "base_uri": "https://localhost:8080/"
        },
        "outputId": "cb6dcd69-b632-435f-bd71-13cfec5878e3"
      },
      "execution_count": null,
      "outputs": [
        {
          "output_type": "execute_result",
          "data": {
            "text/plain": [
              "array([ 1,  2,  3,  4,  5,  6,  7,  8,  9, 10, 11, 12, 13, 14, 15, 16, 17,\n",
              "       18, 19, 20, 21, 22, 23, 24, 25, 26, 27, 28, 29, 30, 31, 32, 33, 34,\n",
              "       35, 36, 37, 38, 39, 40, 41, 42, 43, 44, 45])"
            ]
          },
          "metadata": {},
          "execution_count": 35
        }
      ]
    },
    {
      "cell_type": "markdown",
      "metadata": {
        "id": "1lMwvkt7cb8a"
      },
      "source": [
        "2) 랜덤 씨드 값은 85로 설정하여라. 그런 다음 이 배열을 랜덤하게 섞어서(shuffle) 첫 6개의 숫자를 슬라이싱 하라. 그 결과를 lotto라는 변수에 할당한 후, 다음과 같이 출력하라.\n"
      ]
    },
    {
      "cell_type": "code",
      "source": [
        "np.random.seed(85)\n",
        "np.random.shuffle(a)\n",
        "a"
      ],
      "metadata": {
        "id": "kdCozms8B1HM",
        "colab": {
          "base_uri": "https://localhost:8080/"
        },
        "outputId": "eb68973a-b815-4938-ea5a-fe2f675bcdc3"
      },
      "execution_count": null,
      "outputs": [
        {
          "output_type": "execute_result",
          "data": {
            "text/plain": [
              "array([35, 21,  6, 33, 38, 34,  9, 25, 29, 45,  3, 12,  5, 24, 37, 40, 15,\n",
              "       17, 20, 42, 23, 30, 11, 41,  8, 26, 36, 22, 18,  2, 31, 10,  1, 44,\n",
              "        7, 27,  4, 19, 16, 13, 43, 39, 32, 28, 14])"
            ]
          },
          "metadata": {},
          "execution_count": 38
        }
      ]
    },
    {
      "cell_type": "code",
      "source": [
        "lotto =a[0:6]\n",
        "print(lotto)"
      ],
      "metadata": {
        "colab": {
          "base_uri": "https://localhost:8080/"
        },
        "id": "sQLT_3R8x_ZW",
        "outputId": "ec223ba0-990e-439d-c53e-509f8590db95"
      },
      "execution_count": null,
      "outputs": [
        {
          "output_type": "stream",
          "name": "stdout",
          "text": [
            "[35 21  6 33 38 34]\n"
          ]
        }
      ]
    },
    {
      "cell_type": "markdown",
      "metadata": {
        "id": "U5Gl8wIpcflq"
      },
      "source": [
        "3) lotto 배열을 정렬한 후 출력하고 추가번호를 출력하라. 추가 번호는 7번째 숫자를 출력하라."
      ]
    },
    {
      "cell_type": "code",
      "source": [
        "a[6]"
      ],
      "metadata": {
        "id": "_u16-eXcB2UP",
        "colab": {
          "base_uri": "https://localhost:8080/"
        },
        "outputId": "316489d7-2c1c-4424-ab3e-0142609d02e2"
      },
      "execution_count": null,
      "outputs": [
        {
          "output_type": "execute_result",
          "data": {
            "text/plain": [
              "9"
            ]
          },
          "metadata": {},
          "execution_count": 40
        }
      ]
    },
    {
      "cell_type": "markdown",
      "metadata": {
        "id": "4LeB31Occh-q"
      },
      "source": [
        "4) 다음과 같이 0에서 24까지의 값을 가지는 5x5 크기의 2차원 행렬 n_arr을 생성하여라."
      ]
    },
    {
      "cell_type": "code",
      "source": [
        "n_arr = np.arange(0, 25).reshape(5,5)\n",
        "n_arr"
      ],
      "metadata": {
        "id": "2_kTGBZRB3cl",
        "colab": {
          "base_uri": "https://localhost:8080/"
        },
        "outputId": "a5db49e5-c99a-450a-8eef-5687a417ab0b"
      },
      "execution_count": null,
      "outputs": [
        {
          "output_type": "execute_result",
          "data": {
            "text/plain": [
              "array([[ 0,  1,  2,  3,  4],\n",
              "       [ 5,  6,  7,  8,  9],\n",
              "       [10, 11, 12, 13, 14],\n",
              "       [15, 16, 17, 18, 19],\n",
              "       [20, 21, 22, 23, 24]])"
            ]
          },
          "metadata": {},
          "execution_count": 41
        }
      ]
    },
    {
      "cell_type": "markdown",
      "metadata": {
        "id": "n_N_skiwcmRj"
      },
      "source": [
        "5) 앞서 만든 n_arr의 가장 첫 원소와 가장 마지막 원소를 인덱싱하여 다음과 같이 출력하여라. 이 떄, 마지막 원소의 인덱싱은 반드시 음수 값을 사용하여라."
      ]
    },
    {
      "cell_type": "code",
      "source": [
        "print(f'첫원소: {n_arr[0,0]}, 마지막 원소: {n_arr[-1,-1]}')"
      ],
      "metadata": {
        "id": "sqnZF4KUB4kF",
        "colab": {
          "base_uri": "https://localhost:8080/"
        },
        "outputId": "942748fe-92aa-4a89-f88d-b999118043df"
      },
      "execution_count": null,
      "outputs": [
        {
          "output_type": "stream",
          "name": "stdout",
          "text": [
            "첫원소: 0, 마지막 원소: 24\n"
          ]
        }
      ]
    },
    {
      "cell_type": "markdown",
      "metadata": {
        "id": "bBZLt-_4coz1"
      },
      "source": [
        "6) n_arr 배열에 슬라이싱을 적용하여 다음과 같은 값을 가지는 배열을 생성하여라.\n",
        "\n",
        "\n",
        "```\n",
        "array([[0, 1, 2, 3, 4],\n",
        "       [5, 6, 7, 8, 9]])\n",
        "```\n",
        "\n"
      ]
    },
    {
      "cell_type": "code",
      "source": [
        "n_arr[:2, :]"
      ],
      "metadata": {
        "id": "yw-3l1ktB5n1",
        "colab": {
          "base_uri": "https://localhost:8080/"
        },
        "outputId": "d96237d3-b727-48ff-f3d8-ffbb518a2880"
      },
      "execution_count": null,
      "outputs": [
        {
          "output_type": "execute_result",
          "data": {
            "text/plain": [
              "array([[0, 1, 2, 3, 4],\n",
              "       [5, 6, 7, 8, 9]])"
            ]
          },
          "metadata": {},
          "execution_count": 43
        }
      ]
    },
    {
      "cell_type": "markdown",
      "metadata": {
        "id": "8u_iYAL4cq50"
      },
      "source": [
        "7) n_arr 배열에 슬라이싱을 적용하여 다음과 같은 값을 가지는 배열을 생성하여라.\n",
        "\n",
        "\n",
        "```\n",
        "array([[ 0,  2,  4],\n",
        "       [ 5,  7,  9],\n",
        "       [10, 12, 14],\n",
        "       [15, 17, 19],\n",
        "       [20, 22, 24]])\n",
        "```\n",
        "\n"
      ]
    },
    {
      "cell_type": "code",
      "source": [
        "n_arr[:, ::2]"
      ],
      "metadata": {
        "id": "IUL01JU1B7B1",
        "colab": {
          "base_uri": "https://localhost:8080/"
        },
        "outputId": "0279ff1f-8cd0-42ed-ac21-24c288302232"
      },
      "execution_count": null,
      "outputs": [
        {
          "output_type": "execute_result",
          "data": {
            "text/plain": [
              "array([[ 0,  2,  4],\n",
              "       [ 5,  7,  9],\n",
              "       [10, 12, 14],\n",
              "       [15, 17, 19],\n",
              "       [20, 22, 24]])"
            ]
          },
          "metadata": {},
          "execution_count": 44
        }
      ]
    },
    {
      "cell_type": "markdown",
      "metadata": {
        "id": "Wl149G20cs_V"
      },
      "source": [
        "8) n_arr 배열에 슬라이싱을 적용한 후, reshape()을 적용하여 다음과 같은 값을 가지는 배열을 생성하여라\n",
        "\n",
        "\n",
        "\n",
        "```\n",
        "array([[0, 1],\n",
        "       [2, 3],\n",
        "       [4, 5],\n",
        "       [6, 7],\n",
        "       [8, 9]])\n",
        "```\n",
        "\n"
      ]
    },
    {
      "cell_type": "code",
      "source": [
        "n_arr\n",
        "n_arr[:2, :].reshape(5,2)"
      ],
      "metadata": {
        "id": "lNQ834XEB8JQ",
        "colab": {
          "base_uri": "https://localhost:8080/"
        },
        "outputId": "43d53a8f-9f12-4b5f-b974-9a1c0bd144e0"
      },
      "execution_count": null,
      "outputs": [
        {
          "output_type": "execute_result",
          "data": {
            "text/plain": [
              "array([[0, 1],\n",
              "       [2, 3],\n",
              "       [4, 5],\n",
              "       [6, 7],\n",
              "       [8, 9]])"
            ]
          },
          "metadata": {},
          "execution_count": 46
        }
      ]
    },
    {
      "cell_type": "markdown",
      "metadata": {
        "id": "ChbCvMIFcvmd"
      },
      "source": [
        "##2 다음과 같이 난수로 이루어진 2x2x2 형태의 배열 a를 생성하여라.\n",
        "\n",
        "\n",
        "```\n",
        "array([[[ 0.19066621, -0.23387768],\n",
        "        [ 0.39469745, -0.34461204]],\n",
        "\n",
        "       [[-1.11862745,  1.62978122],\n",
        "        [ 0.46794657, -0.06532543]]])\n",
        "```\n",
        "\n"
      ]
    },
    {
      "cell_type": "code",
      "source": [
        "a = np.random.randn(8).reshape(2,2,2)\n",
        "a"
      ],
      "metadata": {
        "colab": {
          "base_uri": "https://localhost:8080/"
        },
        "id": "4UWavU35z2MR",
        "outputId": "b9cf20e6-a0ee-4b05-e3c2-9ff2b3392da0"
      },
      "execution_count": null,
      "outputs": [
        {
          "output_type": "execute_result",
          "data": {
            "text/plain": [
              "array([[[-0.7889257 ,  2.58304684],\n",
              "        [ 0.51096797, -0.09249755]],\n",
              "\n",
              "       [[ 1.21599711,  1.29370903],\n",
              "        [-1.03238097,  0.78078012]]])"
            ]
          },
          "metadata": {},
          "execution_count": 48
        }
      ]
    },
    {
      "cell_type": "markdown",
      "metadata": {
        "id": "KvH03fiqcza_"
      },
      "source": [
        "1) a 배열에서 max() 메소드를 사용하여 가장 큰 값을 구하여 다음과 같이 출력하여라."
      ]
    },
    {
      "cell_type": "code",
      "source": [
        "a.max()"
      ],
      "metadata": {
        "id": "aSI7nHlwB9T3",
        "colab": {
          "base_uri": "https://localhost:8080/"
        },
        "outputId": "dde7c631-64f9-4ca5-a39c-c982bff99929"
      },
      "execution_count": null,
      "outputs": [
        {
          "output_type": "execute_result",
          "data": {
            "text/plain": [
              "2.5830468423246535"
            ]
          },
          "metadata": {},
          "execution_count": 49
        }
      ]
    },
    {
      "cell_type": "markdown",
      "metadata": {
        "id": "uA4iJGitc1w2"
      },
      "source": [
        "2) a 배열에서 min() 메소드를 사용하여 가장 작은 값을 구한 다음 출력하여라."
      ]
    },
    {
      "cell_type": "code",
      "source": [
        "a.min()"
      ],
      "metadata": {
        "id": "amYQmAqQB_fE",
        "colab": {
          "base_uri": "https://localhost:8080/"
        },
        "outputId": "de2a98c6-6dc8-4919-a170-6269bb734670"
      },
      "execution_count": null,
      "outputs": [
        {
          "output_type": "execute_result",
          "data": {
            "text/plain": [
              "-1.0323809679898892"
            ]
          },
          "metadata": {},
          "execution_count": 50
        }
      ]
    }
  ]
}